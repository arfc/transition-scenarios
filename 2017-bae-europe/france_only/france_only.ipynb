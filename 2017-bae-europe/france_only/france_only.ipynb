{
 "cells": [
  {
   "cell_type": "markdown",
   "metadata": {},
   "source": [
    "### Import Necessary Module and Set Path "
   ]
  },
  {
   "cell_type": "code",
   "execution_count": 4,
   "metadata": {
    "collapsed": true
   },
   "outputs": [],
   "source": [
    "import sqlite3 as lite\n",
    "import os\n",
    "import sys\n",
    "import numpy as np\n",
    "import collections\n",
    "sys.path.insert(0, '../../scripts/')\n",
    "jupyter_directory = os.getcwd()"
   ]
  },
  {
   "cell_type": "code",
   "execution_count": 5,
   "metadata": {
    "collapsed": true
   },
   "outputs": [],
   "source": [
    "import analysis as an"
   ]
  },
  {
   "cell_type": "markdown",
   "metadata": {},
   "source": [
    "## Run Cyclus Input file"
   ]
  },
  {
   "cell_type": "code",
   "execution_count": null,
   "metadata": {},
   "outputs": [
    {
     "name": "stdout",
     "output_type": "stream",
     "text": [
      "              :                                                               \r\n",
      "          .CL:CC CC             _Q     _Q  _Q_Q    _Q    _Q              _Q   \r\n",
      "        CC;CCCCCCCC:C;         /_\\)   /_\\)/_/\\\\)  /_\\)  /_\\)            /_\\)  \r\n",
      "        CCCCCCCCCCCCCl       __O|/O___O|/O_OO|/O__O|/O__O|/O____________O|/O__\r\n",
      "     CCCCCCf     iCCCLCC     /////////////////////////////////////////////////\r\n",
      "     iCCCt  ;;;;;.  CCCC                                                      \r\n",
      "    CCCC  ;;;;;;;;;. CClL.                          c                         \r\n",
      "   CCCC ,;;       ;;: CCCC  ;                   : CCCCi                       \r\n",
      "    CCC ;;         ;;  CC   ;;:                CCC`   `C;                     \r\n",
      "  lCCC ;;              CCCC  ;;;:             :CC .;;. C;   ;    :   ;  :;;   \r\n",
      "  CCCC ;.              CCCC    ;;;,           CC ;    ; Ci  ;    :   ;  :  ;  \r\n",
      "   iCC :;               CC       ;;;,        ;C ;       CC  ;    :   ; .      \r\n",
      "  CCCi ;;               CCC        ;;;.      .C ;       tf  ;    :   ;  ;.    \r\n",
      "  CCC  ;;               CCC          ;;;;;;; fC :       lC  ;    :   ;    ;:  \r\n",
      "   iCf ;;               CC         :;;:      tC ;       CC  ;    :   ;     ;  \r\n",
      "  fCCC :;              LCCf      ;;;:         LC :.  ,: C   ;    ;   ; ;   ;  \r\n",
      "  CCCC  ;;             CCCC    ;;;:           CCi `;;` CC.  ;;;; :;.;.  ; ,;  \r\n",
      "    CCl ;;             CC    ;;;;              CCC    CCL                     \r\n",
      "   tCCC  ;;        ;; CCCL  ;;;                  tCCCCC.                      \r\n",
      "    CCCC  ;;     :;; CCCCf  ;                     ,L                          \r\n",
      "     lCCC   ;;;;;;  CCCL                                                      \r\n",
      "     CCCCCC  :;;  fCCCCC                                                      \r\n",
      "      . CCCC     CCCC .                                                       \r\n",
      "       .CCCCCCCCCCCCCi                                                        \r\n",
      "          iCCCCCLCf                                                           \r\n",
      "           .  C. ,                                                            \r\n",
      "              :                                                               \r\n"
     ]
    }
   ],
   "source": [
    "! rm cyclus.sqlite\n",
    "! cyclus france_only.xml"
   ]
  },
  {
   "cell_type": "markdown",
   "metadata": {},
   "source": [
    "### The output file should be named \n",
    "         \n",
    "          cyclus.sqlite"
   ]
  },
  {
   "cell_type": "markdown",
   "metadata": {},
   "source": [
    "## This python notebook is only to  generate the power plot that shows the french transition to SFRs. The result of material flow should be ignored."
   ]
  },
  {
   "cell_type": "code",
   "execution_count": 16,
   "metadata": {},
   "outputs": [
    {
     "name": "stdout",
     "output_type": "stream",
     "text": [
      "Sink_Source_Inst has no values\n"
     ]
    },
    {
     "name": "stderr",
     "output_type": "stream",
     "text": [
      "/home/dkadkf/anaconda3/lib/python3.5/site-packages/matplotlib/__init__.py:1710: MatplotlibDeprecationWarning: The *left* kwarg to `bar` is deprecated use *x* instead. Support for *left* will be removed in Matplotlib 3.0\n",
      "  return func(ax, *args, **kwargs)\n"
     ]
    },
    {
     "name": "stdout",
     "output_type": "stream",
     "text": [
      "Sink_Source_Inst has no values\n",
      "Sink_Source_Inst has no values\n",
      "Sink_Source_Inst has no values\n",
      "Sink_Source_Inst has no values\n",
      "Sink_Source_Inst has no values\n",
      "Sink_Source_Inst has no values\n",
      "Sink_Source_Inst has no values\n"
     ]
    },
    {
     "name": "stderr",
     "output_type": "stream",
     "text": [
      "/home/dkadkf/anaconda3/lib/python3.5/site-packages/ipykernel/__main__.py:58: RuntimeWarning: invalid value encountered in double_scalars\n"
     ]
    }
   ],
   "source": [
    "import matplotlib.pyplot as plt\n",
    "import os\n",
    "\n",
    "base = an.get_cursor('0ext.sqlite')\n",
    "init_year, init_month, duration, timestep = an.get_timesteps(base)\n",
    "\n",
    "# get power / number timeseries\n",
    "base_dict = an.get_power_dict(base)\n",
    "an.plot_power(base)\n",
    "os.rename('power_plot.png', 'base.png')\n",
    "\n",
    "file_list = ['5ext.sqlite', '10ext.sqlite', '20ext.sqlite']\n",
    "\n",
    "lwr_diff_dict = {}\n",
    "lwr_dict = {}\n",
    "fr_diff_dict = {}\n",
    "fr_dict = {}\n",
    "for file in file_list:\n",
    "    cursor = an.get_cursor(file)\n",
    "    an.plot_power(cursor)\n",
    "    os.rename('power_plot.png', file + '.png')\n",
    "\n",
    "for file in file_list:\n",
    "    cursor = an.get_cursor(file)\n",
    "    power_dict = an.get_power_dict(cursor)\n",
    "    lwr_dict[file.replace('.sqlite', '')] = power_dict['lwr']\n",
    "    lwr_diff = [x-y for x,y in zip(power_dict['lwr'], base_dict['lwr'])]\n",
    "    lwr_diff_dict[file.replace('.sqlite', '')] = lwr_diff\n",
    "    \n",
    "    fr_dict[file.replace('.sqlite','')] = power_dict['FR']\n",
    "    fr_diff = [x-y for x,y in zip(power_dict['FR'], base_dict['FR'])]\n",
    "    fr_diff_dict[file.replace('.sqlite', '')] = fr_diff\n",
    "    \n",
    "\n",
    "years = an.timestep_to_years(init_year, timestep)\n",
    "for key in lwr_diff_dict:\n",
    "    plt.plot(years, lwr_diff_dict[key], label=key)\n",
    "plt.ylabel('Installed Capacity [MWe]')\n",
    "plt.title('LWR Capacity Difference from Base Case')\n",
    "plt.xlabel('Year')\n",
    "plt.legend()\n",
    "plt.grid(True)\n",
    "plt.savefig('lwr_diff.png', format='png', bbox_inches='tight')\n",
    "plt.close()\n",
    "        \n",
    "for key in fr_diff_dict:\n",
    "    plt.plot(years, fr_diff_dict[key], label=key)\n",
    "plt.ylabel('Installed Capacity [MWe]')\n",
    "plt.title('FR Capacity Difference from Base Case')\n",
    "plt.xlabel('Year')\n",
    "plt.legend()\n",
    "plt.grid(True)\n",
    "plt.savefig('fr_diff.png', format='png', bbox_inches='tight')\n",
    "plt.close()\n",
    "\n",
    "\n",
    "for key in fr_diff_dict:\n",
    "    ratio_timeseries = [x/y for x,y in zip(fr_dict[key], lwr_dict[key])]\n",
    "    z = 0\n",
    "    for i in ratio_timeseries:\n",
    "        if i > 1:\n",
    "            ratio_timeseries[z] = 1\n",
    "        z= z+1\n",
    "    plt.plot(years, ratio_timeseries, label=key)\n",
    "plt.ylabel('FR to LWR Capacity Ratio[MWe]')\n",
    "plt.title('FR to LWR Capacity Ratio')\n",
    "plt.xlabel('Year')\n",
    "plt.legend()\n",
    "plt.grid(True)\n",
    "plt.savefig('pow_ratio.png', format='png', bbox_inches='tight')\n",
    "plt.close()"
   ]
  },
  {
   "cell_type": "code",
   "execution_count": 13,
   "metadata": {},
   "outputs": [
    {
     "name": "stdout",
     "output_type": "stream",
     "text": [
      "2280\n",
      "2280\n",
      "2280\n"
     ]
    },
    {
     "name": "stderr",
     "output_type": "stream",
     "text": [
      "/home/dkadkf/anaconda3/lib/python3.5/site-packages/ipykernel/__main__.py:3: RuntimeWarning: invalid value encountered in double_scalars\n",
      "  app.launch_new_instance()\n"
     ]
    }
   ],
   "source": [
    "\n",
    "for key in fr_diff_dict:\n",
    "    ratio_timeseries = [x/y for x,y in zip(fr_dict[key], lwr_dict[key])]\n",
    "    z = 0\n",
    "    for i in ratio_timeseries:\n",
    "        if i > 1:\n",
    "            ratio_timeseries[z] = 1\n",
    "        z= z+1\n",
    "    print(len(ratio_timeseries))\n",
    "    plt.plot(years, ratio_timeseries, label=key)\n",
    "plt.ylabel('FR to LWR Capacity Ratio[MWe]')\n",
    "plt.title('FR to LWR Capacity Ratio')\n",
    "plt.xlabel('Year')\n",
    "plt.legend()\n",
    "plt.grid(True)\n",
    "plt.savefig('pow_ratio.png', format='png', bbox_inches='tight')\n",
    "plt.close()"
   ]
  },
  {
   "cell_type": "code",
   "execution_count": 14,
   "metadata": {
    "collapsed": true
   },
   "outputs": [],
   "source": [
    "power_dict = {}\n",
    "power_cum ={}\n",
    "entered = cur20.execute('SELECT entertime, max(value) FROM '\n",
    "                      'agententry INNER JOIN timeseriespower '\n",
    "                      'ON agententry.agentid = timeseriespower.agentid '\n",
    "                      'WHERE parentid = 86 '\n",
    "                      'GROUP BY agententry.agentid').fetchall()\n",
    "init_year, init_month, duration, timestep = an.get_timesteps(cur20)\n",
    "power_dict['power'] = an.get_timeseries(entered, duration, False)\n",
    "power_cum['power'] = an.get_timeseries_cum(entered, duration, False)\n",
    "power_dict['power'] = [x/600 for x in power_dict['power']]\n",
    "power_cum['power'] = [x/600 for x in power_cum['power']]\n",
    "                                     \n",
    "an.double_axis_bar_line_plot(power_dict, power_cum, timestep, 'Year', 'Num Reactors Deployed', 'Cumulative Number', '20ext', '20ext', init_year)"
   ]
  },
  {
   "cell_type": "code",
   "execution_count": 4,
   "metadata": {},
   "outputs": [
    {
     "data": {
      "image/png": "[encoded data removed]",
      "text/plain": [
       "<IPython.core.display.Image object>"
      ]
     },
     "execution_count": 4,
     "metadata": {},
     "output_type": "execute_result"
    }
   ],
   "source": [
    "# Display Net Capacity vs Time\n",
    "from IPython.display import Image\n",
    "Image(filename='power_plot.png')"
   ]
  },
  {
   "cell_type": "code",
   "execution_count": null,
   "metadata": {
    "collapsed": true
   },
   "outputs": [],
   "source": []
  }
 ],
 "metadata": {
  "kernelspec": {
   "display_name": "Python [default]",
   "language": "python",
   "name": "python3"
  },
  "language_info": {
   "codemirror_mode": {
    "name": "ipython",
    "version": 3
   },
   "file_extension": ".py",
   "mimetype": "text/x-python",
   "name": "python",
   "nbconvert_exporter": "python",
   "pygments_lexer": "ipython3",
   "version": "3.5.3"
  }
 },
 "nbformat": 4,
 "nbformat_minor": 2
}
