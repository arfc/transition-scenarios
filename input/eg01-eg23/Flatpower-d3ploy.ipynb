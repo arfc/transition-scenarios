{
 "cells": [
  {
   "cell_type": "markdown",
   "metadata": {},
   "source": [
    " # Transition Scenario EG01-EG23 Flat Power"
   ]
  },
  {
   "cell_type": "code",
   "execution_count": 1,
   "metadata": {},
   "outputs": [
    {
     "ename": "OperationalError",
     "evalue": "no such table: info",
     "output_type": "error",
     "traceback": [
      "\u001b[0;31m---------------------------------------------------------------------------\u001b[0m",
      "\u001b[0;31mOperationalError\u001b[0m                          Traceback (most recent call last)",
      "\u001b[0;32m<ipython-input-1-1de01c36d45e>\u001b[0m in \u001b[0;36m<module>\u001b[0;34m\u001b[0m\n\u001b[1;32m     48\u001b[0m \u001b[0;34m\u001b[0m\u001b[0m\n\u001b[1;32m     49\u001b[0m \u001b[0;32mfor\u001b[0m \u001b[0mcommod\u001b[0m\u001b[0;34m,\u001b[0m \u001b[0mfacility\u001b[0m \u001b[0;32min\u001b[0m \u001b[0mcommod_dict\u001b[0m\u001b[0;34m.\u001b[0m\u001b[0mitems\u001b[0m\u001b[0;34m(\u001b[0m\u001b[0;34m)\u001b[0m\u001b[0;34m:\u001b[0m\u001b[0;34m\u001b[0m\u001b[0;34m\u001b[0m\u001b[0m\n\u001b[0;32m---> 50\u001b[0;31m     \u001b[0magent_entry_dict\u001b[0m\u001b[0;34m[\u001b[0m\u001b[0mcommod\u001b[0m\u001b[0;34m]\u001b[0m \u001b[0;34m=\u001b[0m \u001b[0mtester\u001b[0m\u001b[0;34m.\u001b[0m\u001b[0mget_agent_dict\u001b[0m\u001b[0;34m(\u001b[0m\u001b[0moutput_file\u001b[0m\u001b[0;34m,\u001b[0m \u001b[0mfacility\u001b[0m\u001b[0;34m)\u001b[0m\u001b[0;34m\u001b[0m\u001b[0;34m\u001b[0m\u001b[0m\n\u001b[0m\u001b[1;32m     51\u001b[0m \u001b[0;34m\u001b[0m\u001b[0m\n\u001b[1;32m     52\u001b[0m \u001b[0;31m# get supply deamnd dict\u001b[0m\u001b[0;34m\u001b[0m\u001b[0;34m\u001b[0m\u001b[0;34m\u001b[0m\u001b[0m\n",
      "\u001b[0;32m~/anaconda3/lib/python3.6/site-packages/d3ploy/tester.py\u001b[0m in \u001b[0;36mget_agent_dict\u001b[0;34m(sqlite_file, prototype_list)\u001b[0m\n\u001b[1;32m    316\u001b[0m     \u001b[0mcur\u001b[0m \u001b[0;34m=\u001b[0m \u001b[0mget_cursor\u001b[0m\u001b[0;34m(\u001b[0m\u001b[0msqlite_file\u001b[0m\u001b[0;34m)\u001b[0m\u001b[0;34m\u001b[0m\u001b[0;34m\u001b[0m\u001b[0m\n\u001b[1;32m    317\u001b[0m     \u001b[0magent_dict\u001b[0m \u001b[0;34m=\u001b[0m \u001b[0;34m{\u001b[0m\u001b[0;34m}\u001b[0m\u001b[0;34m\u001b[0m\u001b[0;34m\u001b[0m\u001b[0m\n\u001b[0;32m--> 318\u001b[0;31m     \u001b[0mduration\u001b[0m \u001b[0;34m=\u001b[0m \u001b[0mcur\u001b[0m\u001b[0;34m.\u001b[0m\u001b[0mexecute\u001b[0m\u001b[0;34m(\u001b[0m\u001b[0;34m'SELECT duration FROM info'\u001b[0m\u001b[0;34m)\u001b[0m\u001b[0;34m.\u001b[0m\u001b[0mfetchone\u001b[0m\u001b[0;34m(\u001b[0m\u001b[0;34m)\u001b[0m\u001b[0;34m[\u001b[0m\u001b[0;36m0\u001b[0m\u001b[0;34m]\u001b[0m\u001b[0;34m\u001b[0m\u001b[0;34m\u001b[0m\u001b[0m\n\u001b[0m\u001b[1;32m    319\u001b[0m     \u001b[0;32mfor\u001b[0m \u001b[0mproto\u001b[0m \u001b[0;32min\u001b[0m \u001b[0mprototype_list\u001b[0m\u001b[0;34m:\u001b[0m\u001b[0;34m\u001b[0m\u001b[0;34m\u001b[0m\u001b[0m\n\u001b[1;32m    320\u001b[0m         agententry = cur.execute(\n",
      "\u001b[0;31mOperationalError\u001b[0m: no such table: info"
     ]
    }
   ],
   "source": [
    "import json\n",
    "import re\n",
    "import subprocess\n",
    "import os\n",
    "import sqlite3 as lite\n",
    "import copy\n",
    "import glob\n",
    "import sys\n",
    "from matplotlib import pyplot as plt\n",
    "import numpy as np\n",
    "import pandas as pd\n",
    "import d3ploy.tester as tester\n",
    "import d3ploy.plotter as plotter\n",
    "import collections\n",
    "\n",
    "# Delete previously generated files\n",
    "direc = os.listdir('./')\n",
    "hit_list = glob.glob('*.png') + glob.glob('*.csv') + glob.glob('*.txt')\n",
    "for file in hit_list:\n",
    "    os.remove(file)\n",
    "\n",
    "ENV = dict(os.environ)\n",
    "ENV['PYTHONPATH'] = \".:\" + ENV.get('PYTHONPATH', '')\n",
    "\n",
    "# initialize metric dict\n",
    "demand_eq = '60000'\n",
    "calc_method = 'ma'\n",
    "name = \"eg01-eg23-flatpower-d3ploy\"\n",
    "output_file = name + \".sqlite\"\n",
    "\n",
    "# Initialize dicts\n",
    "metric_dict = {}\n",
    "all_dict = {}\n",
    "agent_entry_dict = {}\n",
    "\n",
    "# get agent deployment\n",
    "commod_dict = {'enrichmentout': ['enrichment'],\n",
    "               'sourceout': ['source'],\n",
    "               'power': ['lwr', 'fr'],\n",
    "               'lwrstorageout': ['lwrreprocessing'],\n",
    "               'frstorageout': ['frreprocessing'],\n",
    "               'lwrout': ['lwrstorage'],\n",
    "               'frout': ['frstorage'],\n",
    "               'lwrreprocessingoutpu': ['pumixerlwr'],\n",
    "               'frreprocessingoutpu': ['pumixerfr'],\n",
    "               'lwrreprocessingwaste': ['lwrsink'],\n",
    "               'frreprocessingwaste': ['frsink']}\n",
    "\n",
    "for commod, facility in commod_dict.items():\n",
    "    agent_entry_dict[commod] = tester.get_agent_dict(output_file, facility)\n",
    "\n",
    "# get supply deamnd dict\n",
    "all_dict['power'] = tester.supply_demand_dict_driving(\n",
    "    output_file, demand_eq, 'power')\n",
    "\n",
    "#plotter.plot_demand_supply_agent(all_dict['power'], agent_entry_dict['power'],\n",
    "#    'power', 'transitionscenario_1_input_power', True)\n",
    "\n",
    "front_commods = ['sourceout', 'enrichmentout']\n",
    "back_commods = ['lwrstorageout', 'frstorageout',\n",
    "    'lwrout', 'frout',\n",
    "    'lwrreprocessingoutpu', 'frreprocessingoutpu',\n",
    "    'lwrreprocessingwaste', 'frreprocessingwaste']\n",
    "\n",
    "for commod in front_commods:\n",
    "    all_dict[commod] = tester.supply_demand_dict_nondriving(output_file,\n",
    "                                                            commod, True)\n",
    "    name = 'eg01-eg23-flatpower-d3ploy' + commod\n",
    "    #plotter.plot_demand_supply_agent(all_dict[commod],\n",
    "    #    agent_entry_dict[commod],commod,name,True)\n",
    "    metric_dict = tester.metrics(\n",
    "        all_dict[commod], metric_dict, calc_method, commod, True)\n",
    "\n",
    "for commod in back_commods:\n",
    "    all_dict[commod] = tester.supply_demand_dict_nondriving(output_file,\n",
    "                                                            commod, False)\n",
    "    name = 'eg01-eg23-flatpower-d3ploy' + commod\n",
    "    #plotter.plot_demand_supply_agent(all_dict[commod],agent_entry_dict[commod],\n",
    "    #    commod, name, False)\n",
    "    metric_dict = tester.metrics(\n",
    "        all_dict[commod], metric_dict, calc_method, commod, False)\n",
    "\n",
    "df = pd.DataFrame(metric_dict)\n",
    "df.to_csv('eg01-eg23-flatpower-d3ploy.csv')\n",
    "\n",
    "#plotter.plot_demand_supply(all_dict_fuel, 'sourceout', name, True, False)\n"
   ]
  }
 ],
 "metadata": {
  "kernelspec": {
   "display_name": "Python 3",
   "language": "python",
   "name": "python3"
  },
  "language_info": {
   "codemirror_mode": {
    "name": "ipython",
    "version": 3
   },
   "file_extension": ".py",
   "mimetype": "text/x-python",
   "name": "python",
   "nbconvert_exporter": "python",
   "pygments_lexer": "ipython3",
   "version": "3.6.7"
  }
 },
 "nbformat": 4,
 "nbformat_minor": 2
}
