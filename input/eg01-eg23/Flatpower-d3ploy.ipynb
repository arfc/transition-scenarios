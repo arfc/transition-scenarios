{
 "cells": [
  {
   "cell_type": "markdown",
   "metadata": {},
   "source": [
    " # Transition Scenario EG01-EG23 Flat Power"
   ]
  },
  {
   "cell_type": "code",
   "execution_count": 11,
   "metadata": {},
   "outputs": [
    {
     "ename": "KeyError",
     "evalue": "'lwrPu'",
     "output_type": "error",
     "traceback": [
      "\u001b[0;31m---------------------------------------------------------------------------\u001b[0m",
      "\u001b[0;31mKeyError\u001b[0m                                  Traceback (most recent call last)",
      "\u001b[0;32m<ipython-input-11-d2664f0b99a2>\u001b[0m in \u001b[0;36m<module>\u001b[0;34m\u001b[0m\n\u001b[1;32m     74\u001b[0m                                                             commod, False)\n\u001b[1;32m     75\u001b[0m     \u001b[0mname\u001b[0m \u001b[0;34m=\u001b[0m \u001b[0;34m'eg01-eg23-flatpower-d3ploy_'\u001b[0m \u001b[0;34m+\u001b[0m \u001b[0mcommod\u001b[0m\u001b[0;34m\u001b[0m\u001b[0;34m\u001b[0m\u001b[0m\n\u001b[0;32m---> 76\u001b[0;31m     plotter.plot_demand_supply_agent(all_dict[commod],agent_entry_dict[commod],\n\u001b[0m\u001b[1;32m     77\u001b[0m         commod, name, False, True, False)\n\u001b[1;32m     78\u001b[0m     metric_dict = tester.metrics(\n",
      "\u001b[0;31mKeyError\u001b[0m: 'lwrPu'"
     ]
    }
   ],
   "source": [
    "import json\n",
    "import re\n",
    "import subprocess\n",
    "import os\n",
    "import sqlite3 as lite\n",
    "import copy\n",
    "import glob\n",
    "import sys\n",
    "from matplotlib import pyplot as plt\n",
    "import numpy as np\n",
    "import pandas as pd\n",
    "import d3ploy.tester as tester\n",
    "import d3ploy.plotter as plotter\n",
    "import collections\n",
    "\n",
    "# Delete previously generated files\n",
    "direc = os.listdir('./')\n",
    "hit_list = glob.glob('*.png') + glob.glob('*.csv') + glob.glob('*.txt')\n",
    "for file in hit_list:\n",
    "    os.remove(file)\n",
    "\n",
    "ENV = dict(os.environ)\n",
    "ENV['PYTHONPATH'] = \".:\" + ENV.get('PYTHONPATH', '')\n",
    "\n",
    "# initialize metric dict\n",
    "demand_eq = '60000'\n",
    "calc_method = 'ma'\n",
    "name = \"eg01-eg23-flatpower-d3ploy\"\n",
    "output_file = name + \".sqlite\"\n",
    "\n",
    "# Initialize dicts\n",
    "metric_dict = {}\n",
    "all_dict = {}\n",
    "agent_entry_dict = {}\n",
    "\n",
    "# get agent deployment\n",
    "commod_dict = {'enrichmentout': ['enrichment'],\n",
    "               'sourceout': ['source'],\n",
    "               'power': ['lwr', 'fr'],\n",
    "               'lwrstorageout': ['lwrreprocessing'],\n",
    "               'frstorageout': ['frreprocessing'],\n",
    "               'lwrout': ['lwrstorage'],\n",
    "               'frout': ['frstorage'],\n",
    "               'lwrreprocessingoutpu': ['pumixerlwr'],\n",
    "               'frreprocessingoutpu': ['pumixerfr'],\n",
    "               'lwrreprocessingwaste': ['lwrsink'],\n",
    "               'frreprocessingwaste': ['frsink']}\n",
    "\n",
    "for commod, facility in commod_dict.items():\n",
    "    agent_entry_dict[commod] = tester.get_agent_dict(output_file, facility)\n",
    "\n",
    "# get supply deamnd dict\n",
    "all_dict['power'] = tester.supply_demand_dict_driving(\n",
    "    output_file, demand_eq, 'power')\n",
    "\n",
    "plotter.plot_demand_supply_agent(all_dict['power'], agent_entry_dict['power'],\n",
    "    'power', 'eg01-eg23-flatpower-d3ploy_power', True, True, False)\n",
    "\n",
    "front_commods = ['sourceout', 'enrichmentout']\n",
    "back_commods = ['lwrstorageout', 'frstorageout',\n",
    "    'lwrout', 'frout', 'lwrPu', 'frPu', 'lwrreprocessingwaste', 'frreprocessingwaste']\n",
    "\n",
    "for commod in front_commods:\n",
    "    all_dict[commod] = tester.supply_demand_dict_nondriving(output_file,\n",
    "                                                            commod, True)\n",
    "    name = 'eg01-eg23-flatpower-d3ploy_' + commod\n",
    "    plotter.plot_demand_supply_agent(all_dict[commod],\n",
    "                                     agent_entry_dict[commod], commod, name, True, True, False)\n",
    "    metric_dict = tester.metrics(\n",
    "        all_dict[commod], metric_dict, calc_method, commod, True)\n",
    "\n",
    "for commod in back_commods:\n",
    "    all_dict[commod] = tester.supply_demand_dict_nondriving(output_file,\n",
    "                                                            commod, False)\n",
    "    name = 'eg01-eg23-flatpower-d3ploy_' + commod\n",
    "    plotter.plot_demand_supply_agent(all_dict[commod],agent_entry_dict[commod],\n",
    "        commod, name, False, True, False)\n",
    "    metric_dict = tester.metrics(\n",
    "        all_dict[commod], metric_dict, calc_method, commod, False)\n",
    "\n",
    "df = pd.DataFrame(metric_dict)\n",
    "df.to_csv('eg01-eg23-flatpower-d3ploy.csv')\n"
   ]
  },
  {
   "cell_type": "code",
   "execution_count": null,
   "metadata": {},
   "outputs": [],
   "source": []
  }
 ],
 "metadata": {
  "kernelspec": {
   "display_name": "Python 3",
   "language": "python",
   "name": "python3"
  },
  "language_info": {
   "codemirror_mode": {
    "name": "ipython",
    "version": 3
   },
   "file_extension": ".py",
   "mimetype": "text/x-python",
   "name": "python",
   "nbconvert_exporter": "python",
   "pygments_lexer": "ipython3",
   "version": "3.6.7"
  }
 },
 "nbformat": 4,
 "nbformat_minor": 2
}
