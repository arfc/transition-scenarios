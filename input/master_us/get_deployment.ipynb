{
 "cells": [
  {
   "cell_type": "code",
   "execution_count": 17,
   "metadata": {},
   "outputs": [],
   "source": [
    "import sqlite3 as lite\n",
    "import os\n",
    "import sys\n",
    "import numpy as np\n",
    "import collections\n",
    "sys.path.insert(0, '../../scripts/')\n",
    "jupyter_directory = os.getcwd()\n",
    "from IPython.display import Image\n",
    "import matplotlib.pyplot as plt\n",
    "import os\n",
    "from shutil import copyfile"
   ]
  },
  {
   "cell_type": "code",
   "execution_count": 18,
   "metadata": {},
   "outputs": [],
   "source": [
    "import analysis as an"
   ]
  },
  {
   "cell_type": "code",
   "execution_count": 19,
   "metadata": {},
   "outputs": [],
   "source": [
    "# get sqlite cursor and simulation time data\n",
    "cur = an.get_cursor('./2020.sqlite')\n",
    "init_year, init_month, duration, timestep = an.get_timesteps(cur)"
   ]
  },
  {
   "cell_type": "code",
   "execution_count": 20,
   "metadata": {},
   "outputs": [
    {
     "name": "stdout",
     "output_type": "stream",
     "text": [
      "Sink_Source_Inst has no values\n",
      "Sink_Source_Inst has no values\n"
     ]
    }
   ],
   "source": [
    "# get number of reactors and capacity timeseries\n",
    "an.plot_power(cur)"
   ]
  },
  {
   "cell_type": "code",
   "execution_count": 21,
   "metadata": {},
   "outputs": [
    {
     "data": {
      "image/png": "[encoded data removed]",
      "text/plain": [
       "<IPython.core.display.Image object>"
      ]
     },
     "execution_count": 21,
     "metadata": {},
     "output_type": "execute_result"
    }
   ],
   "source": [
    "Image('power_plot.png')"
   ]
  },
  {
   "cell_type": "code",
   "execution_count": 29,
   "metadata": {
    "scrolled": true
   },
   "outputs": [
    {
     "name": "stdout",
     "output_type": "stream",
     "text": [
      "[0. 0. 1. ... 0. 1. 0.]\n"
     ]
    },
    {
     "data": {
      "text/plain": [
       "[<matplotlib.lines.Line2D at 0x7f2ceec12be0>]"
      ]
     },
     "execution_count": 29,
     "metadata": {},
     "output_type": "execute_result"
    },
    {
     "data": {
      "image/png": "[encoded data removed]",
      "text/plain": [
       "<Figure size 432x288 with 1 Axes>"
      ]
     },
     "metadata": {},
     "output_type": "display_data"
    }
   ],
   "source": [
    "cur = an.get_cursor('./2020.sqlite')\n",
    "init_year, init_month, duration, timestep = an.get_timesteps(cur)\n",
    "power_dict = an.get_power_dict(cur)\n",
    "deploy_array, deployed_power = an.get_new_deployment(power_dict, ['us_government'],\n",
    "                                                     '100*(1.01)**(t/12)', 1, 960, 0, True)\n",
    "print(deploy_array)\n",
    "plt.plot(deploy_array)"
   ]
  },
  {
   "cell_type": "code",
   "execution_count": 31,
   "metadata": {},
   "outputs": [],
   "source": [
    "an.write_deployinst(deploy_array, 'lwr', 'lwr_dep.xml', 960)"
   ]
  },
  {
   "cell_type": "code",
   "execution_count": 16,
   "metadata": {},
   "outputs": [
    {
     "name": "stdout",
     "output_type": "stream",
     "text": [
      "./2030_0_growth/input.xml DOES NOT EXIST\n",
      "./2030_005_growth/input.xml DOES NOT EXIST\n",
      "./2030_01_growth/input.xml DOES NOT EXIST\n",
      "./2030_015_growth/input.xml DOES NOT EXIST\n",
      "./2035_0_growth/input.xml DOES NOT EXIST\n",
      "./2035_005_growth/input.xml DOES NOT EXIST\n",
      "./2035_01_growth/input.xml DOES NOT EXIST\n",
      "./2035_015_growth/input.xml DOES NOT EXIST\n",
      "./2040_0_growth/input.xml DOES NOT EXIST\n",
      "./2040_005_growth/input.xml DOES NOT EXIST\n",
      "./2040_01_growth/input.xml DOES NOT EXIST\n",
      "./2040_015_growth/input.xml DOES NOT EXIST\n",
      "./2045_0_growth/input.xml DOES NOT EXIST\n",
      "./2045_005_growth/input.xml DOES NOT EXIST\n",
      "./2045_01_growth/input.xml DOES NOT EXIST\n",
      "./2045_015_growth/input.xml DOES NOT EXIST\n",
      "./2050_0_growth/input.xml DOES NOT EXIST\n",
      "./2050_005_growth/input.xml DOES NOT EXIST\n",
      "./2050_01_growth/input.xml DOES NOT EXIST\n",
      "./2050_015_growth/input.xml DOES NOT EXIST\n"
     ]
    }
   ],
   "source": [
    "# write these deploy schemes to file\n",
    "for key in dep_dict.keys():\n",
    "    if not os.path.isdir(\"./%s\" %key):\n",
    "        print('FOLDER %s NOT THERE,' %key)\n",
    "        os.makedirs(key)    \n",
    "        print('%s FOLDER MADE!' %key)\n",
    "    try:\n",
    "        os.remove('./%s/input.xml' %key)\n",
    "    except:\n",
    "        print('./%s/input.xml DOES NOT EXIST'%key)\n",
    "    copyfile('./udb_recipe.xml', './%s/udb_recipe.xml' %key)\n",
    "    copyfile('./udb_precise.xml', './%s/udb_precise.xml' %key)\n",
    "    copyfile('./udb_no.xml', './%s/udb_no.xml' %key)\n",
    "    for key2 in dep_dict[key]:\n",
    "        an.write_deployinst(dep_dict[key][key2], key2, './%s/%s_dep.xml' %(key, key2),\n",
    "                            960)\n",
    "        if key2 == 'sfr':\n",
    "            an.write_deployinst(dep_dict[key][key2], 'blanket', './%s/blanket_dep.xml' %(key), 960)"
   ]
  },
  {
   "cell_type": "code",
   "execution_count": 13,
   "metadata": {},
   "outputs": [],
   "source": [
    "# delete sqlite files\n",
    "for key in dep_dict.keys():\n",
    "    if os.path.isfile('./%s/output.sqlite' %key):\n",
    "        os.remove('./%s/output.sqlite' %key)\n",
    "        print('REMOVED %s' %key)"
   ]
  },
  {
   "cell_type": "markdown",
   "metadata": {},
   "source": [
    "## "
   ]
  }
 ],
 "metadata": {
  "kernelspec": {
   "display_name": "Python 3",
   "language": "python",
   "name": "python3"
  },
  "language_info": {
   "codemirror_mode": {
    "name": "ipython",
    "version": 3
   },
   "file_extension": ".py",
   "mimetype": "text/x-python",
   "name": "python",
   "nbconvert_exporter": "python",
   "pygments_lexer": "ipython3",
   "version": "3.6.5"
  }
 },
 "nbformat": 4,
 "nbformat_minor": 2
}
