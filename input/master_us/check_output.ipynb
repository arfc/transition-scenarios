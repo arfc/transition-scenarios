{
 "cells": [
  {
   "cell_type": "code",
   "execution_count": 15,
   "metadata": {},
   "outputs": [],
   "source": [
    "import sqlite3 as lite\n",
    "import os\n",
    "import sys\n",
    "import numpy as np\n",
    "import collections\n",
    "sys.path.insert(0, '../../scripts/')\n",
    "jupyter_directory = os.getcwd()\n",
    "from IPython.display import Image\n",
    "import matplotlib.pyplot as plt\n",
    "import os\n",
    "from shutil import copyfile"
   ]
  },
  {
   "cell_type": "code",
   "execution_count": 16,
   "metadata": {},
   "outputs": [],
   "source": [
    "import analysis as an"
   ]
  },
  {
   "cell_type": "code",
   "execution_count": 19,
   "metadata": {},
   "outputs": [],
   "source": [
    "cur = an.get_cursor('./output/fill_source.sqlite')\n",
    "init_year, init_month, duration, timestep = an.get_timesteps(cur)"
   ]
  },
  {
   "cell_type": "code",
   "execution_count": 20,
   "metadata": {},
   "outputs": [
    {
     "name": "stdout",
     "output_type": "stream",
     "text": [
      "95\n"
     ]
    }
   ],
   "source": [
    "rebus_ids = an.get_prototype_id(cur, 'rebus')\n",
    "num = cur.execute('select count() from agententry where prototype = \"rebus\"').fetchone()[0]\n",
    "print(num)"
   ]
  },
  {
   "cell_type": "code",
   "execution_count": 21,
   "metadata": {},
   "outputs": [
    {
     "name": "stdout",
     "output_type": "stream",
     "text": [
      "0\n"
     ]
    }
   ],
   "source": [
    "# did it get init fuel?\n",
    "z = 0 \n",
    "for id in rebus_ids:\n",
    "    count = cur.execute('select count() from transactions where commodity = \"init_fuel\" and receiverid = \"' + id + '\"').fetchone()[0]\n",
    "    if count == 0:\n",
    "        z += 1\n",
    "        print(id, count)\n",
    "print(z)"
   ]
  },
  {
   "cell_type": "code",
   "execution_count": 26,
   "metadata": {
    "scrolled": true
   },
   "outputs": [
    {
     "name": "stdout",
     "output_type": "stream",
     "text": [
      "0\n"
     ]
    }
   ],
   "source": [
    "z=0\n",
    "for id in rebus_ids:\n",
    "    count = cur.execute('select count() from transactions where commodity = \"dep_u\" and receiverid = \"' + id + '\"').fetchone()[0]\n",
    "    entertime = cur.execute('select entertime from agententry where agentid = \"%s\"' %id).fetchone()[0]\n",
    "    lifetime = min(duration-entertime-1, 478)\n",
    "    if count != lifetime:\n",
    "        z += 1\n",
    "        print(id, count)\n",
    "print(z)"
   ]
  },
  {
   "cell_type": "markdown",
   "metadata": {},
   "source": [
    "# one reactor"
   ]
  },
  {
   "cell_type": "code",
   "execution_count": 28,
   "metadata": {},
   "outputs": [
    {
     "name": "stderr",
     "output_type": "stream",
     "text": [
      "/home/teddy/anaconda3/lib/python3.6/site-packages/h5py/__init__.py:36: FutureWarning: Conversion of the second argument of issubdtype from `float` to `np.floating` is deprecated. In future, it will be treated as `np.float64 == np.dtype(float).type`.\n",
      "  from ._conv import register_converters as _register_converters\n"
     ]
    }
   ],
   "source": [
    "import h5py"
   ]
  },
  {
   "cell_type": "code",
   "execution_count": 42,
   "metadata": {},
   "outputs": [
    {
     "data": {
      "text/plain": [
       "0.09034363991813091"
      ]
     },
     "execution_count": 42,
     "metadata": {},
     "output_type": "execute_result"
    },
    {
     "data": {
      "image/png": "[encoded data removed]",
      "text/plain": [
       "<Figure size 432x288 with 1 Axes>"
      ]
     },
     "metadata": {},
     "output_type": "display_data"
    }
   ],
   "source": [
    "cur = an.get_cursor('./output/one_reactor.sqlite')\n",
    "init_year, init_month, duration, timestep = an.get_timesteps(cur)\n",
    "rebus_id = an.get_prototype_id(cur, 'rebus_3700')\n",
    "waste_out = an.facility_commodity_flux(cur, rebus_id, ['waste'], True, False)\n",
    "plt.plot(timestep/12, waste_out['waste'])\n",
    "plt.title('Waste discharge from a single REBUS 3700')\n",
    "plt.xlabel('Years')\n",
    "plt.ylabel('Mass [MTHM]')\n",
    "plt.savefig('rebus_waste.png', format='png')\n",
    "out = waste_out['waste']\n",
    "out[out!=0].mean()"
   ]
  },
  {
   "cell_type": "code",
   "execution_count": null,
   "metadata": {},
   "outputs": [],
   "source": []
  }
 ],
 "metadata": {
  "kernelspec": {
   "display_name": "Python 3",
   "language": "python",
   "name": "python3"
  },
  "language_info": {
   "codemirror_mode": {
    "name": "ipython",
    "version": 3
   },
   "file_extension": ".py",
   "mimetype": "text/x-python",
   "name": "python",
   "nbconvert_exporter": "python",
   "pygments_lexer": "ipython3",
   "version": "3.6.5"
  }
 },
 "nbformat": 4,
 "nbformat_minor": 2
}
