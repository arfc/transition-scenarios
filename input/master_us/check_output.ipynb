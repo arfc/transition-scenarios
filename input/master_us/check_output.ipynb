{
 "cells": [
  {
   "cell_type": "code",
   "execution_count": 15,
   "metadata": {},
   "outputs": [],
   "source": [
    "import sqlite3 as lite\n",
    "import os\n",
    "import sys\n",
    "import numpy as np\n",
    "import collections\n",
    "sys.path.insert(0, '../../scripts/')\n",
    "jupyter_directory = os.getcwd()\n",
    "from IPython.display import Image\n",
    "import matplotlib.pyplot as plt\n",
    "import os\n",
    "from shutil import copyfile"
   ]
  },
  {
   "cell_type": "markdown",
   "metadata": {},
   "source": [
    "# check_output\n",
    "This jupyter notebook is to check whether the simulation is a success, by testing the following:\n",
    "* Did all the REBUS reactors get their initial fuel?\n",
    "* Did all the REBUS reactors received their depleted uranium?"
   ]
  },
  {
   "cell_type": "code",
   "execution_count": 16,
   "metadata": {},
   "outputs": [],
   "source": [
    "import analysis as an"
   ]
  },
  {
   "cell_type": "code",
   "execution_count": 19,
   "metadata": {},
   "outputs": [],
   "source": [
    "cur = an.get_cursor('./output/done.sqlite')\n",
    "init_year, init_month, duration, timestep = an.get_timesteps(cur)"
   ]
  },
  {
   "cell_type": "code",
   "execution_count": 20,
   "metadata": {},
   "outputs": [
    {
     "name": "stdout",
     "output_type": "stream",
     "text": [
      "95\n"
     ]
    }
   ],
   "source": [
    "rebus_ids = an.get_prototype_id(cur, 'rebus')\n",
    "num = cur.execute('select count() from agententry where prototype = \"rebus\"').fetchone()[0]\n",
    "print(num)"
   ]
  },
  {
   "cell_type": "code",
   "execution_count": 43,
   "metadata": {},
   "outputs": [
    {
     "name": "stdout",
     "output_type": "stream",
     "text": [
      "711 0\n",
      "713 0\n",
      "715 0\n",
      "717 0\n",
      "719 0\n",
      "721 0\n",
      "723 0\n",
      "725 0\n",
      "727 0\n",
      "729 0\n",
      "731 0\n",
      "733 0\n",
      "735 0\n",
      "737 0\n",
      "739 0\n",
      "741 0\n",
      "743 0\n",
      "745 0\n",
      "747 0\n",
      "749 0\n",
      "751 0\n",
      "753 0\n",
      "755 0\n",
      "757 0\n",
      "759 0\n",
      "761 0\n",
      "763 0\n",
      "765 0\n",
      "767 0\n",
      "769 0\n",
      "771 0\n",
      "773 0\n",
      "775 0\n",
      "777 0\n",
      "779 0\n",
      "781 0\n",
      "783 0\n",
      "785 0\n",
      "787 0\n",
      "789 0\n",
      "791 0\n",
      "793 0\n",
      "795 0\n",
      "797 0\n",
      "799 0\n",
      "801 0\n",
      "803 0\n",
      "805 0\n",
      "807 0\n",
      "809 0\n",
      "811 0\n",
      "813 0\n",
      "815 0\n",
      "817 0\n",
      "819 0\n",
      "821 0\n",
      "823 0\n",
      "825 0\n",
      "827 0\n",
      "829 0\n",
      "831 0\n",
      "833 0\n",
      "835 0\n",
      "837 0\n",
      "839 0\n",
      "841 0\n",
      "843 0\n",
      "845 0\n",
      "847 0\n",
      "849 0\n",
      "851 0\n",
      "853 0\n",
      "855 0\n",
      "857 0\n",
      "859 0\n",
      "861 0\n",
      "863 0\n",
      "865 0\n",
      "867 0\n",
      "869 0\n",
      "871 0\n",
      "873 0\n",
      "875 0\n",
      "877 0\n",
      "879 0\n",
      "881 0\n",
      "883 0\n",
      "885 0\n",
      "887 0\n",
      "889 0\n",
      "891 0\n",
      "893 0\n",
      "895 0\n",
      "897 0\n",
      "899 0\n"
     ]
    }
   ],
   "source": [
    "# did it get init fuel?\n",
    "z = 0 \n",
    "for id in rebus_ids:\n",
    "    count = cur.execute('select count() from transactions where commodity = \"init_fuel\" and receiverid = \"' + id + '\"').fetchone()[0]\n",
    "    if count == 0:\n",
    "        z += 1\n",
    "        print(id, count)\n",
    "if z ==0:\n",
    "    print('Success - all REBUS reactors received initial fuel')"
   ]
  },
  {
   "cell_type": "code",
   "execution_count": 44,
   "metadata": {
    "scrolled": true
   },
   "outputs": [
    {
     "ename": "TypeError",
     "evalue": "'NoneType' object is not subscriptable",
     "output_type": "error",
     "traceback": [
      "\u001b[0;31m---------------------------------------------------------------------------\u001b[0m",
      "\u001b[0;31mTypeError\u001b[0m                                 Traceback (most recent call last)",
      "\u001b[0;32m<ipython-input-44-ba4bf40ad2ac>\u001b[0m in \u001b[0;36m<module>\u001b[0;34m()\u001b[0m\n\u001b[1;32m      2\u001b[0m \u001b[0;32mfor\u001b[0m \u001b[0mid\u001b[0m \u001b[0;32min\u001b[0m \u001b[0mrebus_ids\u001b[0m\u001b[0;34m:\u001b[0m\u001b[0;34m\u001b[0m\u001b[0m\n\u001b[1;32m      3\u001b[0m     \u001b[0mcount\u001b[0m \u001b[0;34m=\u001b[0m \u001b[0mcur\u001b[0m\u001b[0;34m.\u001b[0m\u001b[0mexecute\u001b[0m\u001b[0;34m(\u001b[0m\u001b[0;34m'select count() from transactions where commodity = \"dep_u\" and receiverid = \"'\u001b[0m \u001b[0;34m+\u001b[0m \u001b[0mid\u001b[0m \u001b[0;34m+\u001b[0m \u001b[0;34m'\"'\u001b[0m\u001b[0;34m)\u001b[0m\u001b[0;34m.\u001b[0m\u001b[0mfetchone\u001b[0m\u001b[0;34m(\u001b[0m\u001b[0;34m)\u001b[0m\u001b[0;34m[\u001b[0m\u001b[0;36m0\u001b[0m\u001b[0;34m]\u001b[0m\u001b[0;34m\u001b[0m\u001b[0m\n\u001b[0;32m----> 4\u001b[0;31m     \u001b[0mentertime\u001b[0m \u001b[0;34m=\u001b[0m \u001b[0mcur\u001b[0m\u001b[0;34m.\u001b[0m\u001b[0mexecute\u001b[0m\u001b[0;34m(\u001b[0m\u001b[0;34m'select entertime from agententry where agentid = \"%s\"'\u001b[0m \u001b[0;34m%\u001b[0m\u001b[0mid\u001b[0m\u001b[0;34m)\u001b[0m\u001b[0;34m.\u001b[0m\u001b[0mfetchone\u001b[0m\u001b[0;34m(\u001b[0m\u001b[0;34m)\u001b[0m\u001b[0;34m[\u001b[0m\u001b[0;36m0\u001b[0m\u001b[0;34m]\u001b[0m\u001b[0;34m\u001b[0m\u001b[0m\n\u001b[0m\u001b[1;32m      5\u001b[0m     \u001b[0mlifetime\u001b[0m \u001b[0;34m=\u001b[0m \u001b[0mmin\u001b[0m\u001b[0;34m(\u001b[0m\u001b[0mduration\u001b[0m\u001b[0;34m-\u001b[0m\u001b[0mentertime\u001b[0m\u001b[0;34m-\u001b[0m\u001b[0;36m1\u001b[0m\u001b[0;34m,\u001b[0m \u001b[0;36m478\u001b[0m\u001b[0;34m)\u001b[0m\u001b[0;34m\u001b[0m\u001b[0m\n\u001b[1;32m      6\u001b[0m     \u001b[0;32mif\u001b[0m \u001b[0mcount\u001b[0m \u001b[0;34m!=\u001b[0m \u001b[0mlifetime\u001b[0m\u001b[0;34m:\u001b[0m\u001b[0;34m\u001b[0m\u001b[0m\n",
      "\u001b[0;31mTypeError\u001b[0m: 'NoneType' object is not subscriptable"
     ]
    }
   ],
   "source": [
    "z=0\n",
    "for id in rebus_ids:\n",
    "    count = cur.execute('select count() from transactions where commodity = \"dep_u\" and receiverid = \"' + id + '\"').fetchone()[0]\n",
    "    entertime = cur.execute('select entertime from agententry where agentid = \"%s\"' %id).fetchone()[0]\n",
    "    lifetime = min(duration-entertime-1, 478)\n",
    "    if count != lifetime:\n",
    "        z += 1\n",
    "        print(id, count)\n",
    "if z==0:\n",
    "    print('Success - all REBUS reactors received their fill material')"
   ]
  },
  {
   "cell_type": "code",
   "execution_count": null,
   "metadata": {},
   "outputs": [],
   "source": []
  }
 ],
 "metadata": {
  "kernelspec": {
   "display_name": "Python 3",
   "language": "python",
   "name": "python3"
  },
  "language_info": {
   "codemirror_mode": {
    "name": "ipython",
    "version": 3
   },
   "file_extension": ".py",
   "mimetype": "text/x-python",
   "name": "python",
   "nbconvert_exporter": "python",
   "pygments_lexer": "ipython3",
   "version": "3.6.5"
  }
 },
 "nbformat": 4,
 "nbformat_minor": 2
}
