{
 "cells": [
  {
   "cell_type": "code",
   "execution_count": 1,
   "metadata": {},
   "outputs": [],
   "source": [
    "with open('../../database/mcsfr_output_recipe', 'r') as f:\n",
    "    lines = f.readlines()"
   ]
  },
  {
   "cell_type": "code",
   "execution_count": 18,
   "metadata": {},
   "outputs": [],
   "source": [
    "from pyne import nucname\n",
    "import fnmatch\n",
    "output_comp = {}\n",
    "waste_comp = {}\n",
    "total = 0\n",
    "non_waste_comp = {}\n",
    "non_waste_list = ['cl-37', 'cl-35', 'na-23', 'pu-231', 'pu-232', 'pu-233',\n",
    "                  'pu-234', 'pu-235', 'pu-236', 'pu-237', 'pu-238', 'pu-239',\n",
    "                  'pu-240', 'pu-241', 'pu-242', 'u-232', 'u-233', 'u-234',\n",
    "                  'u-235', 'u-236', 'u-238', 'u-239', 'u-240', 'np-238',\n",
    "                  'np-239', 'cm-243', 'cm-241', 'cm-242', 'cm-243', 'cm-244',\n",
    "                  'cm-245', 'cm-246', 'cm-247', 'cm-248', 'np-235', 'am244',\n",
    "                  'am241', 'am243', 'am242', 'np236', 'np237', 'th242', 'th233',\n",
    "                  'th']\n",
    "non_waste_list = ['Cl*', 'Na*', 'Pu*', 'U*','Np*', 'Cm*', 'Am*', 'Th*', 'Cf*', 'Pa*']\n",
    "\n",
    "\n",
    "for line in lines:\n",
    "    z = line.split()\n",
    "    isotope = nucname.name(z[0])\n",
    "    # atomic density\n",
    "    adens = z[3]\n",
    "    output_comp[isotope] = float(adens)\n",
    "    total += float(adens)\n"
   ]
  },
  {
   "cell_type": "code",
   "execution_count": 20,
   "metadata": {},
   "outputs": [
    {
     "name": "stdout",
     "output_type": "stream",
     "text": [
      "{'Hg198': 1.08996e-20, 'Si28': 5.73733e-14, 'Si29': 1.15683e-14, 'Ac225': 2.05857e-18, 'Ac227': 4.62223e-17, 'S33': 6.3413e-10, 'S32': 1.82036e-13, 'S34': 1.22575e-06, 'S36': 5.95223e-07, 'B11': 5.98529e-20, 'He3': 3.99343e-08, 'He4': 2.17138e-05, 'Ga71': 2.03701e-09, 'Ca44': 1.19464e-20, 'Ca42': 1.09159e-17, 'Ca43': 5.67445e-20, 'N14': 1.08883e-18, 'Li7': 1.47675e-18, 'Bk249': 3.46793e-11, 'N15': 8.53675e-13, 'Ar38': 3.97154e-05, 'Ar36': 4.77175e-15, 'Es255': 4.72515e-20, 'Es253': 2.52381e-16, 'Bi209': 1.16567e-15, 'Mg26': 2.15601e-10, 'Mg24': 3.00634e-05, 'Mg25': 8.09669e-08, 'Ga69': 4.81988e-10, 'F19': 1.95659e-09, 'Al27': 4.90307e-14, 'Cu65': 1.59347e-13, 'H1': 5.44207e-06, 'H2': 6.88042e-08, 'H3': 3.96039e-07, 'Pb208': 9.8009e-13, 'Pb207': 6.09026e-16, 'Bk250': 3.49268e-15, 'Pb206': 2.9541e-19, 'Cr54': 1.07305e-20, 'Co59': 3.16673e-19, 'Co58': 3.29408e-19, 'Ti49': 1.02435e-20, 'Ti48': 1.0487e-20, 'P31': 3.97879e-10, 'Hg200': 1.66079e-20, 'Si30': 1.99852e-10, 'Ar40': 6.16725e-13, 'K39': 3.58614e-13, 'Hf176': 1.6724e-20, 'Ra226': 1.32022e-16, 'Ra224': 1.62035e-15, 'Ra225': 3.09608e-18, 'Hf178': 3.26107e-20, 'K40': 2.39579e-15, 'K41': 1.11877e-15, 'Hf180': 2.8226e-20, 'Es254': 1.21416e-18, 'Fe56': 1.17836e-20, 'Fe58': 2.3068e-17, 'Ra223': 1.21068e-18, 'Ni62': 1.16164e-20, 'Ni64': 1.0487e-20, 'Ti50': 1.02435e-20, 'W184': 6.102e-20, 'W182': 2.96916e-19}\n"
     ]
    }
   ],
   "source": [
    "# make a copy\n",
    "non_waste_keys = []\n",
    "non_waste_comp = {}\n",
    "waste_comp = dict(output_comp)\n",
    "for key in waste_comp.keys():\n",
    "    for el in non_waste_list:\n",
    "        if fnmatch.fnmatch(key, el):\n",
    "            non_waste_keys.append(key)\n",
    "\n",
    "for i in non_waste_keys:\n",
    "    non_waste_comp[i] = output_comp[i]\n",
    "    del waste_comp[i]\n",
    "\n",
    "print(waste_comp)"
   ]
  },
  {
   "cell_type": "code",
   "execution_count": 21,
   "metadata": {},
   "outputs": [
    {
     "name": "stdout",
     "output_type": "stream",
     "text": [
      "0.03250130161049448\n",
      "0.003056719069408933\n",
      "0.9969432809305909\n"
     ]
    }
   ],
   "source": [
    "print(total)\n",
    "print(sum(waste_comp.values()) / total)\n",
    "print(sum(non_waste_comp.values()) / total)"
   ]
  },
  {
   "cell_type": "code",
   "execution_count": 22,
   "metadata": {},
   "outputs": [],
   "source": [
    "with open('waste_recipe.xml', 'w') as f:\n",
    "    for key, value in waste_comp.items():\n",
    "        f.write('<nuclide> <id>%s</id> <comp>%s</comp> </nuclide>\\n'\n",
    "                %(key, value))"
   ]
  },
  {
   "cell_type": "code",
   "execution_count": null,
   "metadata": {},
   "outputs": [],
   "source": []
  }
 ],
 "metadata": {
  "kernelspec": {
   "display_name": "Python 3",
   "language": "python",
   "name": "python3"
  },
  "language_info": {
   "codemirror_mode": {
    "name": "ipython",
    "version": 3
   },
   "file_extension": ".py",
   "mimetype": "text/x-python",
   "name": "python",
   "nbconvert_exporter": "python",
   "pygments_lexer": "ipython3",
   "version": "3.6.6"
  }
 },
 "nbformat": 4,
 "nbformat_minor": 2
}
