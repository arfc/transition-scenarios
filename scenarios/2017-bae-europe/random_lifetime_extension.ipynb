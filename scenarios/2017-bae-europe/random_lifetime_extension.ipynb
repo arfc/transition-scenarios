{
 "cells": [
  {
   "cell_type": "markdown",
   "metadata": {},
   "source": [
    "### Import Necessary Module and Set Path "
   ]
  },
  {
   "cell_type": "code",
   "execution_count": 25,
   "metadata": {},
   "outputs": [],
   "source": [
    "import sqlite3 as lite\n",
    "import os\n",
    "import sys\n",
    "import collections\n",
    "import matplotlib.pyplot as plt\n",
    "sys.path.insert(0, '../../scripts/')\n",
    "jupyter_directory = os.getcwd()"
   ]
  },
  {
   "cell_type": "code",
   "execution_count": 2,
   "metadata": {},
   "outputs": [
    {
     "name": "stdout",
     "output_type": "stream",
     "text": [
      "Usage: from_pris.main([csv],[init_date], [duration], [country_list], [output_file_name])\n"
     ]
    }
   ],
   "source": [
    "import analysis as an\n",
    "import random_lifetime_extension as rle\n",
    "import cyclus_input_gen.from_pris as fp\n",
    "import cyclus_input_gen.demand_deploy as dd\n",
    "import cyclus_input_gen.find_replace as fr"
   ]
  },
  {
   "cell_type": "code",
   "execution_count": 3,
   "metadata": {},
   "outputs": [
    {
     "name": "stdout",
     "output_type": "stream",
     "text": [
      "        <name>France_government</name>\n",
      "\n"
     ]
    }
   ],
   "source": [
    "# also do random lifetime extension of French LWRs to see spread out deployment\n",
    "# uniform sample (0,25)\n",
    "rle.generate_input('input.xml', 'rand_ext.xml', 720, 'France', low=0, high=25)"
   ]
  },
  {
   "cell_type": "code",
   "execution_count": 4,
   "metadata": {
    "scrolled": true
   },
   "outputs": [
    {
     "name": "stdout",
     "output_type": "stream",
     "text": [
      "              :                                                               \n",
      "          .CL:CC CC             _Q     _Q  _Q_Q    _Q    _Q              _Q   \n",
      "        CC;CCCCCCCC:C;         /_\\)   /_\\)/_/\\\\)  /_\\)  /_\\)            /_\\)  \n",
      "        CCCCCCCCCCCCCl       __O|/O___O|/O_OO|/O__O|/O__O|/O____________O|/O__\n",
      "     CCCCCCf     iCCCLCC     /////////////////////////////////////////////////\n",
      "     iCCCt  ;;;;;.  CCCC                                                      \n",
      "    CCCC  ;;;;;;;;;. CClL.                          c                         \n",
      "   CCCC ,;;       ;;: CCCC  ;                   : CCCCi                       \n",
      "    CCC ;;         ;;  CC   ;;:                CCC`   `C;                     \n",
      "  lCCC ;;              CCCC  ;;;:             :CC .;;. C;   ;    :   ;  :;;   \n",
      "  CCCC ;.              CCCC    ;;;,           CC ;    ; Ci  ;    :   ;  :  ;  \n",
      "   iCC :;               CC       ;;;,        ;C ;       CC  ;    :   ; .      \n",
      "  CCCi ;;               CCC        ;;;.      .C ;       tf  ;    :   ;  ;.    \n",
      "  CCC  ;;               CCC          ;;;;;;; fC :       lC  ;    :   ;    ;:  \n",
      "   iCf ;;               CC         :;;:      tC ;       CC  ;    :   ;     ;  \n",
      "  fCCC :;              LCCf      ;;;:         LC :.  ,: C   ;    ;   ; ;   ;  \n",
      "  CCCC  ;;             CCCC    ;;;:           CCi `;;` CC.  ;;;; :;.;.  ; ,;  \n",
      "    CCl ;;             CC    ;;;;              CCC    CCL                     \n",
      "   tCCC  ;;        ;; CCCL  ;;;                  tCCCCC.                      \n",
      "    CCCC  ;;     :;; CCCCf  ;                     ,L                          \n",
      "     lCCC   ;;;;;;  CCCL                                                      \n",
      "     CCCCCC  :;;  fCCCCC                                                      \n",
      "      . CCCC     CCCC .                                                       \n",
      "       .CCCCCCCCCCCCCi                                                        \n",
      "          iCCCCCLCf                                                           \n",
      "           .  C. ,                                                            \n",
      "              :                                                               \n",
      "Experimental Warning: MatlBuyPolicy is experimental and its API may be subject to change\n",
      "Experimental Warning: MatlSellPolicy is experimental and its API may be subject to change\n",
      "Experimental Warning: The Storage Facility is experimental.\n",
      "Experimental Warning: MatlSellPolicy is experimental and its API may be subject to change\n",
      "Experimental Warning: the Mixer archetype is experimental\n",
      "Experimental Warning: MatlSellPolicy is experimental and its API may be subject to change\n",
      "Experimental Warning: the Mixer archetype is experimental\n",
      "Experimental Warning: MatlSellPolicy is experimental and its API may be subject to change\n",
      "Experimental Warning: the Mixer archetype is experimental\n",
      "Experimental Warning: MatlSellPolicy is experimental and its API may be subject to change\n",
      "Experimental Warning: the Mixer archetype is experimental\n",
      "Experimental Warning: MatlBuyPolicy is experimental and its API may be subject to change\n",
      "Experimental Warning: MatlSellPolicy is experimental and its API may be subject to change\n",
      "Experimental Warning: The Storage Facility is experimental.\n",
      "Experimental Warning: MatlBuyPolicy is experimental and its API may be subject to change\n",
      "Experimental Warning: MatlSellPolicy is experimental and its API may be subject to change\n",
      "Experimental Warning: The Storage Facility is experimental.\n",
      "Experimental Warning: MatlBuyPolicy is experimental and its API may be subject to change\n",
      "Experimental Warning: MatlSellPolicy is experimental and its API may be subject to change\n",
      "Experimental Warning: The Storage Facility is experimental.\n",
      "Experimental Warning: MatlBuyPolicy is experimental and its API may be subject to change\n",
      "Experimental Warning: MatlSellPolicy is experimental and its API may be subject to change\n",
      "Experimental Warning: The Storage Facility is experimental.\n",
      "Experimental Warning: MatlBuyPolicy is experimental and its API may be subject to change\n",
      "Experimental Warning: MatlSellPolicy is experimental and its API may be subject to change\n",
      "Experimental Warning: The Storage Facility is experimental.\n",
      "Experimental Warning: MatlBuyPolicy is experimental and its API may be subject to change\n",
      "Experimental Warning: MatlSellPolicy is experimental and its API may be subject to change\n",
      "Experimental Warning: The Storage Facility is experimental.\n",
      "Experimental Warning: MatlSellPolicy is experimental and its API may be subject to change\n",
      "Experimental Warning: the Mixer archetype is experimental\n",
      "Experimental Warning: MatlSellPolicy is experimental and its API may be subject to change\n",
      "Experimental Warning: the Mixer archetype is experimental\n",
      "Experimental Warning: MatlSellPolicy is experimental and its API may be subject to change\n",
      "Experimental Warning: the Mixer archetype is experimental\n",
      "Experimental Warning: MatlBuyPolicy is experimental and its API may be subject to change\n",
      "Experimental Warning: MatlSellPolicy is experimental and its API may be subject to change\n",
      "Experimental Warning: The Storage Facility is experimental.\n",
      "Experimental Warning: MatlBuyPolicy is experimental and its API may be subject to change\n",
      "Experimental Warning: MatlSellPolicy is experimental and its API may be subject to change\n",
      "Experimental Warning: The Storage Facility is experimental.\n",
      "Experimental Warning: MatlSellPolicy is experimental and its API may be subject to change\n",
      "Further Experimental Warnings will be suppressed.\n",
      "\n",
      "Status: Cyclus run successful!\n",
      "Output location: rand.sqlite\n",
      "Simulation ID: 4d7cb731-1c44-419c-83de-51de01c6cae5\n"
     ]
    }
   ],
   "source": [
    "! rm rand.sqlite\n",
    "! cyclus rand_ext.xml -o rand.sqlite"
   ]
  },
  {
   "cell_type": "code",
   "execution_count": 17,
   "metadata": {},
   "outputs": [],
   "source": [
    "# get sqlite cursor and simulation time data\n",
    "cur = an.cursor('rand.sqlite')\n",
    "init_year, init_month, duration, timestep = an.simulation_timesteps(cur)"
   ]
  },
  {
   "cell_type": "code",
   "execution_count": 18,
   "metadata": {},
   "outputs": [
    {
     "name": "stdout",
     "output_type": "stream",
     "text": [
      "64.72999999999999\n"
     ]
    }
   ],
   "source": [
    "# just france LWR power\n",
    "power_capacity = an.power_capacity(cur)\n",
    "\n",
    "power_demand_eq = str(max(power_capacity['France_government']))\n",
    "print(power_demand_eq)\n",
    "# with this power capacity, calculate deployment scheme for astrids:\n",
    "astrid_lifetime = 720\n",
    "astrid_deployment, powz = dd.get_new_deployment(power_capacity, ['France_government'],\n",
    "                                                power_demand_eq, 0.6, astrid_lifetime, 840, True)\n",
    "dd.write_deployinst(astrid_deployment, 'astrid', 'rand_astrid_dep.xml', astrid_lifetime)"
   ]
  },
  {
   "cell_type": "code",
   "execution_count": 19,
   "metadata": {},
   "outputs": [],
   "source": [
    "# add institution wrapper to generated deployinst block\n",
    "head = \"\"\"\n",
    "      <institution>\n",
    "        <name>France_astrid</name>\n",
    "        <config>\n",
    "          <DeployInst>\n",
    "\"\"\"\n",
    "tail = \"\"\"\n",
    "\n",
    "          </DeployInst>\n",
    "        </config>\n",
    "      </institution>\n",
    "\"\"\"\n",
    "with open('rand_astrid_dep.xml') as f:\n",
    "    read_string = f.read()\n",
    "    read_string = read_string.replace('<root>', '')\n",
    "    read_string = read_string.replace('</root>', '')\n",
    "    tot_string = head + read_string + tail\n",
    "with open('rand_astrid_dep.xml', 'w') as f:\n",
    "    f.write(tot_string)"
   ]
  },
  {
   "cell_type": "code",
   "execution_count": 20,
   "metadata": {},
   "outputs": [
    {
     "name": "stdout",
     "output_type": "stream",
     "text": [
      "195255\n",
      "209062\n",
      "245693\n"
     ]
    }
   ],
   "source": [
    "# insert astrid block\n",
    "with open('rand_ext.xml') as f:\n",
    "    input_string = f.read()\n",
    "\n",
    "insert_start = \"\"\"          </DeployInst>\n",
    "        </config>\n",
    "      </institution>\"\"\"\n",
    "\n",
    "\n",
    "insert_end = \"\"\"      <institution>\n",
    "        <name>France_government</name>\n",
    "        <config>\n",
    "\"\"\"\n",
    "\n",
    "new_input = fr.replace_file(input_string, insert_start, insert_end, 'rand_astrid_dep.xml', insert=True)\n",
    "print(len(new_input))\n",
    "with open('rand_input_astrid.xml', 'w') as f:\n",
    "    f.write(new_input)"
   ]
  },
  {
   "cell_type": "code",
   "execution_count": 21,
   "metadata": {},
   "outputs": [
    {
     "name": "stdout",
     "output_type": "stream",
     "text": [
      "              :                                                               \n",
      "          .CL:CC CC             _Q     _Q  _Q_Q    _Q    _Q              _Q   \n",
      "        CC;CCCCCCCC:C;         /_\\)   /_\\)/_/\\\\)  /_\\)  /_\\)            /_\\)  \n",
      "        CCCCCCCCCCCCCl       __O|/O___O|/O_OO|/O__O|/O__O|/O____________O|/O__\n",
      "     CCCCCCf     iCCCLCC     /////////////////////////////////////////////////\n",
      "     iCCCt  ;;;;;.  CCCC                                                      \n",
      "    CCCC  ;;;;;;;;;. CClL.                          c                         \n",
      "   CCCC ,;;       ;;: CCCC  ;                   : CCCCi                       \n",
      "    CCC ;;         ;;  CC   ;;:                CCC`   `C;                     \n",
      "  lCCC ;;              CCCC  ;;;:             :CC .;;. C;   ;    :   ;  :;;   \n",
      "  CCCC ;.              CCCC    ;;;,           CC ;    ; Ci  ;    :   ;  :  ;  \n",
      "   iCC :;               CC       ;;;,        ;C ;       CC  ;    :   ; .      \n",
      "  CCCi ;;               CCC        ;;;.      .C ;       tf  ;    :   ;  ;.    \n",
      "  CCC  ;;               CCC          ;;;;;;; fC :       lC  ;    :   ;    ;:  \n",
      "   iCf ;;               CC         :;;:      tC ;       CC  ;    :   ;     ;  \n",
      "  fCCC :;              LCCf      ;;;:         LC :.  ,: C   ;    ;   ; ;   ;  \n",
      "  CCCC  ;;             CCCC    ;;;:           CCi `;;` CC.  ;;;; :;.;.  ; ,;  \n",
      "    CCl ;;             CC    ;;;;              CCC    CCL                     \n",
      "   tCCC  ;;        ;; CCCL  ;;;                  tCCCCC.                      \n",
      "    CCCC  ;;     :;; CCCCf  ;                     ,L                          \n",
      "     lCCC   ;;;;;;  CCCL                                                      \n",
      "     CCCCCC  :;;  fCCCCC                                                      \n",
      "      . CCCC     CCCC .                                                       \n",
      "       .CCCCCCCCCCCCCi                                                        \n",
      "          iCCCCCLCf                                                           \n",
      "           .  C. ,                                                            \n",
      "              :                                                               \n",
      "Experimental Warning: MatlBuyPolicy is experimental and its API may be subject to change\n",
      "Experimental Warning: MatlSellPolicy is experimental and its API may be subject to change\n",
      "Experimental Warning: The Storage Facility is experimental.\n",
      "Experimental Warning: MatlSellPolicy is experimental and its API may be subject to change\n",
      "Experimental Warning: the Mixer archetype is experimental\n",
      "Experimental Warning: MatlSellPolicy is experimental and its API may be subject to change\n",
      "Experimental Warning: the Mixer archetype is experimental\n",
      "Experimental Warning: MatlSellPolicy is experimental and its API may be subject to change\n",
      "Experimental Warning: the Mixer archetype is experimental\n",
      "Experimental Warning: MatlSellPolicy is experimental and its API may be subject to change\n",
      "Experimental Warning: the Mixer archetype is experimental\n",
      "Experimental Warning: MatlBuyPolicy is experimental and its API may be subject to change\n",
      "Experimental Warning: MatlSellPolicy is experimental and its API may be subject to change\n",
      "Experimental Warning: The Storage Facility is experimental.\n",
      "Experimental Warning: MatlBuyPolicy is experimental and its API may be subject to change\n",
      "Experimental Warning: MatlSellPolicy is experimental and its API may be subject to change\n",
      "Experimental Warning: The Storage Facility is experimental.\n",
      "Experimental Warning: MatlBuyPolicy is experimental and its API may be subject to change\n",
      "Experimental Warning: MatlSellPolicy is experimental and its API may be subject to change\n",
      "Experimental Warning: The Storage Facility is experimental.\n",
      "Experimental Warning: MatlBuyPolicy is experimental and its API may be subject to change\n",
      "Experimental Warning: MatlSellPolicy is experimental and its API may be subject to change\n",
      "Experimental Warning: The Storage Facility is experimental.\n",
      "Experimental Warning: MatlBuyPolicy is experimental and its API may be subject to change\n",
      "Experimental Warning: MatlSellPolicy is experimental and its API may be subject to change\n",
      "Experimental Warning: The Storage Facility is experimental.\n",
      "Experimental Warning: MatlBuyPolicy is experimental and its API may be subject to change\n",
      "Experimental Warning: MatlSellPolicy is experimental and its API may be subject to change\n",
      "Experimental Warning: The Storage Facility is experimental.\n",
      "Experimental Warning: MatlSellPolicy is experimental and its API may be subject to change\n",
      "Experimental Warning: the Mixer archetype is experimental\n",
      "Experimental Warning: MatlSellPolicy is experimental and its API may be subject to change\n",
      "Experimental Warning: the Mixer archetype is experimental\n",
      "Experimental Warning: MatlSellPolicy is experimental and its API may be subject to change\n",
      "Experimental Warning: the Mixer archetype is experimental\n",
      "Experimental Warning: MatlBuyPolicy is experimental and its API may be subject to change\n",
      "Experimental Warning: MatlSellPolicy is experimental and its API may be subject to change\n",
      "Experimental Warning: The Storage Facility is experimental.\n",
      "Experimental Warning: MatlBuyPolicy is experimental and its API may be subject to change\n",
      "Experimental Warning: MatlSellPolicy is experimental and its API may be subject to change\n",
      "Experimental Warning: The Storage Facility is experimental.\n",
      "Experimental Warning: MatlSellPolicy is experimental and its API may be subject to change\n",
      "Further Experimental Warnings will be suppressed.\n",
      "\n",
      "Status: Cyclus run successful!\n",
      "Output location: rand_ext_output.sqlite\n",
      "Simulation ID: 0f83960e-dcd4-46af-a1e6-902ec07f6ee4\n"
     ]
    }
   ],
   "source": [
    "# run the new input with astrid reactors\n",
    "! rm rand_ext_output.sqlite\n",
    "! cyclus rand_input_astrid.xml -o rand_ext_output.sqlite"
   ]
  },
  {
   "cell_type": "code",
   "execution_count": 22,
   "metadata": {},
   "outputs": [],
   "source": [
    "# get sqlite cursor and simulation time data\n",
    "cur = an.cursor('rand_ext_output.sqlite')\n",
    "init_year, init_month, duration, timestep = an.simulation_timesteps(cur)"
   ]
  },
  {
   "cell_type": "code",
   "execution_count": 23,
   "metadata": {},
   "outputs": [],
   "source": [
    "power_cap = an.power_capacity(cur)\n",
    "dictionary = {'lwr': power_cap['France_government'],\n",
    "              'astrid': power_cap['France_astrid']}\n",
    "init_year, init_month, duration, timestep = an.simulation_timesteps(cur)\n",
    "an.stacked_bar_chart(dictionary, timestep,\n",
    "                  'Years', 'Net_Capacity [GWe]',\n",
    "                  'Net Capacity vs Time',\n",
    "                  'rand_ext_france_power_plot', init_year)"
   ]
  },
  {
   "cell_type": "code",
   "execution_count": 26,
   "metadata": {},
   "outputs": [
    {
     "data": {
      "image/png": "[encoded data removed]",
      "text/plain": [
       "<Figure size 432x288 with 1 Axes>"
      ]
     },
     "metadata": {
      "needs_background": "light"
     },
     "output_type": "display_data"
    },
    {
     "name": "stdout",
     "output_type": "stream",
     "text": [
      "107\n",
      "Average number of ASTRIDS to deploy per year\n",
      "1.7666666666666666\n"
     ]
    },
    {
     "data": {
      "image/png": "[encoded data removed]",
      "text/plain": [
       "<Figure size 432x288 with 1 Axes>"
      ]
     },
     "metadata": {
      "needs_background": "light"
     },
     "output_type": "display_data"
    }
   ],
   "source": [
    "# astrid deployment\n",
    "entry = cur.execute('SELECT entertime FROM agententry WHERE prototype == \"astrid\"').fetchall()\n",
    "num_dict = {}\n",
    "cum_dict = {}\n",
    "num_dict['num dep'] = []\n",
    "for t in timestep:\n",
    "    astrid_num = 0\n",
    "    for agent in entry:\n",
    "        if agent['entertime'] == t:\n",
    "            astrid_num += 1\n",
    "    num_dict['num dep'].append(astrid_num)\n",
    "dep = an.deployments(cur)\n",
    "cum_dict['cumulative'] = dep['France_astrid']\n",
    "plt.plot(init_year + timestep/12, num_dict['num dep'])\n",
    "plt.show()\n",
    "plt.close()\n",
    "plt.plot(cum_dict['cumulative'])\n",
    "print(max(cum_dict['cumulative']))\n",
    "\n",
    "print('Average number of ASTRIDS to deploy per year')\n",
    "print(sum(num_dict['num dep']) / (2160-2040) )\n",
    "an.double_axis_bar_line_plot(num_dict, cum_dict, timestep,\n",
    "                             'Years', 'Number of SFRs Deployed', ' Number of SFRs Operational',\n",
    "                             'Build number and cumulative ASTRID Number vs Time', 'rand_sfr_deploy',\n",
    "                             init_year)"
   ]
  },
  {
   "cell_type": "code",
   "execution_count": null,
   "metadata": {},
   "outputs": [],
   "source": []
  },
  {
   "cell_type": "code",
   "execution_count": null,
   "metadata": {},
   "outputs": [],
   "source": []
  }
 ],
 "metadata": {
  "kernelspec": {
   "display_name": "Python 3",
   "language": "python",
   "name": "python3"
  },
  "language_info": {
   "codemirror_mode": {
    "name": "ipython",
    "version": 3
   },
   "file_extension": ".py",
   "mimetype": "text/x-python",
   "name": "python",
   "nbconvert_exporter": "python",
   "pygments_lexer": "ipython3",
   "version": "3.6.6"
  }
 },
 "nbformat": 4,
 "nbformat_minor": 2
}
