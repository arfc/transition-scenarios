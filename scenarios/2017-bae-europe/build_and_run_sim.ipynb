{
 "cells": [
  {
   "cell_type": "markdown",
   "metadata": {},
   "source": [
    "### Import Necessary Module and Set Path "
   ]
  },
  {
   "cell_type": "code",
   "execution_count": 1,
   "metadata": {},
   "outputs": [],
   "source": [
    "import sqlite3 as lite\n",
    "import os\n",
    "import matplotlib.pyplot as plt\n",
    "import sys\n",
    "import numpy as np\n",
    "from matplotlib import cm\n",
    "import collections\n",
    "\n",
    "sys.path.insert(0, '../../scripts/')\n",
    "jupyter_directory = os.getcwd()"
   ]
  },
  {
   "cell_type": "markdown",
   "metadata": {},
   "source": [
    "## dependencies\n",
    "* cyclus-input-gen\n",
    "install by:\n",
    "```\n",
    "git clone https://github.com/arfc/cyclus-input-gen\n",
    "cd cyclus-input-gen\n",
    "python setup.py install\n",
    "```"
   ]
  },
  {
   "cell_type": "code",
   "execution_count": 2,
   "metadata": {},
   "outputs": [
    {
     "name": "stdout",
     "output_type": "stream",
     "text": [
      "Usage: from_pris.main([csv],[init_date], [duration], [country_list], [output_file_name])\n"
     ]
    }
   ],
   "source": [
    "import analysis as an\n",
    "import random_lifetime_extension as rle\n",
    "import cyclus_input_gen.from_pris as fp\n",
    "import cyclus_input_gen.demand_deploy as dd\n",
    "import cyclus_input_gen.find_replace as fr"
   ]
  },
  {
   "cell_type": "code",
   "execution_count": 3,
   "metadata": {},
   "outputs": [],
   "source": [
    "# write input file using cyclus_input_gen module\n",
    "# find database path -> the csv file is in cyclus-input-gen/database\n",
    "database_path = '/home/teddy/temp/cyclus-input-gen/database/reactors_pris_2016.csv'\n",
    "country_list = ['Poland', 'Hungary', 'United Kingdom', 'Czech Republic', 'Slovakia',\n",
    "                'Bulgaria', 'Finland', 'Netherlands', 'Italy', 'Slovenia',\n",
    "                'Belgium', 'Spain', 'Lithuania', 'France', 'Sweden', 'Germany', 'Romania']\n",
    "fp.main(database_path, 19700101, 2280, country_list, 'input_raw.xml')"
   ]
  },
  {
   "cell_type": "markdown",
   "metadata": {},
   "source": [
    "Then other reactors planned in other countries are added by referencing other sources"
   ]
  },
  {
   "cell_type": "code",
   "execution_count": 4,
   "metadata": {},
   "outputs": [
    {
     "name": "stdout",
     "output_type": "stream",
     "text": [
      "206767\n"
     ]
    }
   ],
   "source": [
    "# replace fuel cycle facilities\n",
    "with open('input_raw.xml') as f:\n",
    "    input_string = f.read()\n",
    "\n",
    "replace_start = \"\"\"\n",
    "<facility>\n",
    "    <name>mixer</name>\n",
    "\"\"\"\n",
    "replace_end = \"\"\"\n",
    "\n",
    "     <facility>\n",
    "    <!-- Belgium -->\n",
    "    <!-- PWR -->\n",
    "    <name>DOEL-1</name>\n",
    "    <config>\n",
    "      <Reactor>\n",
    "        <fuel_inrecipes>  <val>uox_fuel_recipe</val>       </fuel_inrecipes>\n",
    "        <fuel_outrecipes> <val>uox_used_fuel_recipe</val>  </fuel_outrecipes>\n",
    "        <fuel_incommods>  <val>uox</val>                   </fuel_incommods>\n",
    "        <fuel_outcommods> <val>uox_waste</val>             </fuel_outcommods>\n",
    "        <fuel_prefs>      <val>1.0</val>                   </fuel_prefs>\n",
    "        <cycle_time>18</cycle_time>\n",
    "        <refuel_time>2</refuel_time>\n",
    "        <assem_size>446.0</assem_size>\n",
    "        <n_assem_core>83</n_assem_core>\n",
    "        <n_assem_batch>27</n_assem_batch>\n",
    "        <power_cap>433</power_cap>\n",
    "      </Reactor>\n",
    "    </config>\n",
    "  </facility>\n",
    "\"\"\"\n",
    "\n",
    "new_input = fr.replace_file(input_string, replace_start, replace_end, 'facilities.xml')\n",
    "print(len(new_input))"
   ]
  },
  {
   "cell_type": "code",
   "execution_count": 5,
   "metadata": {},
   "outputs": [
    {
     "name": "stdout",
     "output_type": "stream",
     "text": [
      "207046\n"
     ]
    }
   ],
   "source": [
    "# delete unnecessary region definition\n",
    "start = \"\"\"\n",
    "<region>\n",
    "    <name>Sink_Source</name>\n",
    "    <config><NullRegion/></config>\n",
    "\"\"\"\n",
    "end = \"\"\"\n",
    "  <recipe>\n",
    "    <name>natl_u_recipe</name>\n",
    "    <basis>mass</basis>\n",
    "    <nuclide> <id>U235</id> <comp>0.711</comp> </nuclide>\n",
    "    <nuclide> <id>U238</id> <comp>99.289</comp> </nuclide>\n",
    "  </recipe>\n",
    "\"\"\"\n",
    "\n",
    "new_input = fr.replace_file(new_input, start, end, 'sink_source.xml')\n",
    "print(len(new_input))"
   ]
  },
  {
   "cell_type": "code",
   "execution_count": 6,
   "metadata": {},
   "outputs": [
    {
     "name": "stdout",
     "output_type": "stream",
     "text": [
      "216838\n"
     ]
    }
   ],
   "source": [
    "# replace recipe block with contents in recipes.xml\n",
    "replace_start = \"\"\"\n",
    "  <recipe>\n",
    "    <name>natl_u_recipe</name>\n",
    "    <basis>mass</basis>\n",
    "    <nuclide> <id>U235</id> <comp>0.711</comp> </nuclide>\n",
    "    <nuclide> <id>U238</id> <comp>99.289</comp> </nuclide>\n",
    "  </recipe>\n",
    "\"\"\"\n",
    "replace_end = \"\"\"</simulation>\"\"\"\n",
    "\n",
    "new_input = fr.replace_file(new_input, replace_start, replace_end, 'recipes.xml')\n",
    "print(len(new_input))\n"
   ]
  },
  {
   "cell_type": "code",
   "execution_count": 7,
   "metadata": {},
   "outputs": [
    {
     "name": "stdout",
     "output_type": "stream",
     "text": [
      "218391\n"
     ]
    }
   ],
   "source": [
    "# insert french_facilities insitution definition in France region:\n",
    "insert_start = \"\"\"\n",
    "  <region>\n",
    "      <name>France</name>\n",
    "      <config><NullRegion/></config>\n",
    "\"\"\"\n",
    "\n",
    "insert_end = \"\"\"\n",
    "      <institution>\n",
    "        <name>France_government</name>\n",
    "\"\"\"\n",
    "\n",
    "new_input = fr.replace_file(new_input, insert_start, insert_end, 'french_facilities_inst.xml', insert=True)\n",
    "print(len(new_input))"
   ]
  },
  {
   "cell_type": "code",
   "execution_count": 8,
   "metadata": {},
   "outputs": [],
   "source": [
    "with open('input.xml', 'w') as f:\n",
    "    f.write(new_input)"
   ]
  },
  {
   "cell_type": "markdown",
   "metadata": {},
   "source": [
    "### Change lifetimes of Germany, Belgium, and Sweden so the following is met:\n",
    "1. All German reactors shut down by 2022 (timestep 624)\n",
    "2. All Swedish reactors shut down in 2050 (timestep 960)\n",
    "3. All Belgium reactors shut down in 2025 (timestep 660)\n",
    "\n",
    "You can simply get the institution definitions for these nations in `lifetimes.xml`"
   ]
  },
  {
   "cell_type": "markdown",
   "metadata": {},
   "source": [
    "### Replace French reactor prototype definitions with the contents in file `france_reactors.xml`\n",
    "It starts with the reactor definition for CHINON A-2 and ends with definition for FLAMANVILLE-3.\n",
    "This is done because French reactors have different outcommodity names for separate tracking."
   ]
  },
  {
   "cell_type": "markdown",
   "metadata": {},
   "source": [
    "## Run Cyclus Input file (without ASTRIDs)"
   ]
  },
  {
   "cell_type": "code",
   "execution_count": 10,
   "metadata": {},
   "outputs": [
    {
     "name": "stdout",
     "output_type": "stream",
     "text": [
      "rm: cannot remove 'output.sqlite': No such file or directory\n",
      "              :                                                               \n",
      "          .CL:CC CC             _Q     _Q  _Q_Q    _Q    _Q              _Q   \n",
      "        CC;CCCCCCCC:C;         /_\\)   /_\\)/_/\\\\)  /_\\)  /_\\)            /_\\)  \n",
      "        CCCCCCCCCCCCCl       __O|/O___O|/O_OO|/O__O|/O__O|/O____________O|/O__\n",
      "     CCCCCCf     iCCCLCC     /////////////////////////////////////////////////\n",
      "     iCCCt  ;;;;;.  CCCC                                                      \n",
      "    CCCC  ;;;;;;;;;. CClL.                          c                         \n",
      "   CCCC ,;;       ;;: CCCC  ;                   : CCCCi                       \n",
      "    CCC ;;         ;;  CC   ;;:                CCC`   `C;                     \n",
      "  lCCC ;;              CCCC  ;;;:             :CC .;;. C;   ;    :   ;  :;;   \n",
      "  CCCC ;.              CCCC    ;;;,           CC ;    ; Ci  ;    :   ;  :  ;  \n",
      "   iCC :;               CC       ;;;,        ;C ;       CC  ;    :   ; .      \n",
      "  CCCi ;;               CCC        ;;;.      .C ;       tf  ;    :   ;  ;.    \n",
      "  CCC  ;;               CCC          ;;;;;;; fC :       lC  ;    :   ;    ;:  \n",
      "   iCf ;;               CC         :;;:      tC ;       CC  ;    :   ;     ;  \n",
      "  fCCC :;              LCCf      ;;;:         LC :.  ,: C   ;    ;   ; ;   ;  \n",
      "  CCCC  ;;             CCCC    ;;;:           CCi `;;` CC.  ;;;; :;.;.  ; ,;  \n",
      "    CCl ;;             CC    ;;;;              CCC    CCL                     \n",
      "   tCCC  ;;        ;; CCCL  ;;;                  tCCCCC.                      \n",
      "    CCCC  ;;     :;; CCCCf  ;                     ,L                          \n",
      "     lCCC   ;;;;;;  CCCL                                                      \n",
      "     CCCCCC  :;;  fCCCCC                                                      \n",
      "      . CCCC     CCCC .                                                       \n",
      "       .CCCCCCCCCCCCCi                                                        \n",
      "          iCCCCCLCf                                                           \n",
      "           .  C. ,                                                            \n",
      "              :                                                               \n",
      "Experimental Warning: MatlBuyPolicy is experimental and its API may be subject to change\n",
      "Experimental Warning: MatlSellPolicy is experimental and its API may be subject to change\n",
      "Experimental Warning: The Storage Facility is experimental.\n",
      "Experimental Warning: MatlSellPolicy is experimental and its API may be subject to change\n",
      "Experimental Warning: the Mixer archetype is experimental\n",
      "Experimental Warning: MatlSellPolicy is experimental and its API may be subject to change\n",
      "Experimental Warning: the Mixer archetype is experimental\n",
      "Experimental Warning: MatlSellPolicy is experimental and its API may be subject to change\n",
      "Experimental Warning: the Mixer archetype is experimental\n",
      "Experimental Warning: MatlSellPolicy is experimental and its API may be subject to change\n",
      "Experimental Warning: the Mixer archetype is experimental\n",
      "Experimental Warning: MatlBuyPolicy is experimental and its API may be subject to change\n",
      "Experimental Warning: MatlSellPolicy is experimental and its API may be subject to change\n",
      "Experimental Warning: The Storage Facility is experimental.\n",
      "Experimental Warning: MatlBuyPolicy is experimental and its API may be subject to change\n",
      "Experimental Warning: MatlSellPolicy is experimental and its API may be subject to change\n",
      "Experimental Warning: The Storage Facility is experimental.\n",
      "Experimental Warning: MatlBuyPolicy is experimental and its API may be subject to change\n",
      "Experimental Warning: MatlSellPolicy is experimental and its API may be subject to change\n",
      "Experimental Warning: The Storage Facility is experimental.\n",
      "Experimental Warning: MatlBuyPolicy is experimental and its API may be subject to change\n",
      "Experimental Warning: MatlSellPolicy is experimental and its API may be subject to change\n",
      "Experimental Warning: The Storage Facility is experimental.\n",
      "Experimental Warning: MatlBuyPolicy is experimental and its API may be subject to change\n",
      "Experimental Warning: MatlSellPolicy is experimental and its API may be subject to change\n",
      "Experimental Warning: The Storage Facility is experimental.\n",
      "Experimental Warning: MatlBuyPolicy is experimental and its API may be subject to change\n",
      "Experimental Warning: MatlSellPolicy is experimental and its API may be subject to change\n",
      "Experimental Warning: The Storage Facility is experimental.\n",
      "Experimental Warning: MatlSellPolicy is experimental and its API may be subject to change\n",
      "Experimental Warning: the Mixer archetype is experimental\n",
      "Experimental Warning: MatlSellPolicy is experimental and its API may be subject to change\n",
      "Experimental Warning: the Mixer archetype is experimental\n",
      "Experimental Warning: MatlSellPolicy is experimental and its API may be subject to change\n",
      "Experimental Warning: the Mixer archetype is experimental\n",
      "Experimental Warning: MatlBuyPolicy is experimental and its API may be subject to change\n",
      "Experimental Warning: MatlSellPolicy is experimental and its API may be subject to change\n",
      "Experimental Warning: The Storage Facility is experimental.\n",
      "Experimental Warning: MatlBuyPolicy is experimental and its API may be subject to change\n",
      "Experimental Warning: MatlSellPolicy is experimental and its API may be subject to change\n",
      "Experimental Warning: The Storage Facility is experimental.\n",
      "Experimental Warning: MatlSellPolicy is experimental and its API may be subject to change\n",
      "Further Experimental Warnings will be suppressed.\n",
      "\n",
      "Status: Cyclus run successful!\n",
      "Output location: output.sqlite\n",
      "Simulation ID: d75ac3c6-abbd-401c-8f84-67d7df4627d3\n"
     ]
    }
   ],
   "source": [
    "! rm output.sqlite\n",
    "! cyclus input.xml -o output.sqlite"
   ]
  },
  {
   "cell_type": "code",
   "execution_count": 11,
   "metadata": {},
   "outputs": [],
   "source": [
    "# get sqlite cursor and simulation time data\n",
    "cur = an.cursor('output.sqlite')\n",
    "init_year, init_month, duration, timestep = an.simulation_timesteps(cur)"
   ]
  },
  {
   "cell_type": "code",
   "execution_count": 12,
   "metadata": {},
   "outputs": [
    {
     "name": "stdout",
     "output_type": "stream",
     "text": [
      "64.72999999999999\n"
     ]
    }
   ],
   "source": [
    "# just france LWR power\n",
    "power_capacity = an.power_capacity(cur)\n",
    "\n",
    "power_demand_eq = str(max(power_capacity['France_government']))\n",
    "print(power_demand_eq)\n",
    "# with this power capacity, calculate deployment scheme for astrids:\n",
    "astrid_lifetime = 720\n",
    "astrid_deployment, powz = dd.get_new_deployment(power_capacity, ['France_government'],\n",
    "                                                power_demand_eq, 0.6, astrid_lifetime, 840, True)\n",
    "dd.write_deployinst(astrid_deployment, 'astrid', 'astrid_dep.xml', astrid_lifetime)"
   ]
  },
  {
   "cell_type": "code",
   "execution_count": 13,
   "metadata": {},
   "outputs": [],
   "source": [
    "# add institution wrapper to generated deployinst block\n",
    "head = \"\"\"\n",
    "      <institution>\n",
    "        <name>France_astrid</name>\n",
    "        <config>\n",
    "          <DeployInst>\n",
    "\"\"\"\n",
    "tail = \"\"\"\n",
    "\n",
    "          </DeployInst>\n",
    "        </config>\n",
    "      </institution>\n",
    "\"\"\"\n",
    "with open('astrid_dep.xml') as f:\n",
    "    read_string = f.read()\n",
    "    read_string = read_string.replace('<root>', '')\n",
    "    read_string = read_string.replace('</root>', '')\n",
    "    tot_string = head + read_string + tail\n",
    "with open('astrid_dep.xml', 'w') as f:\n",
    "    f.write(tot_string)"
   ]
  },
  {
   "cell_type": "code",
   "execution_count": 14,
   "metadata": {},
   "outputs": [
    {
     "name": "stdout",
     "output_type": "stream",
     "text": [
      "232626\n"
     ]
    }
   ],
   "source": [
    "# insert astrid block\n",
    "with open('input.xml') as f:\n",
    "    input_string = f.read()\n",
    "\n",
    "insert_start = \"\"\"          </DeployInst>\n",
    "        </config>\n",
    "      </institution>\"\"\"\n",
    "\n",
    "\n",
    "insert_end = \"\"\"</region>\n",
    "  \n",
    "  <region>\n",
    "      <name>Finland</name>\n",
    "      <config><NullRegion/></config>\n",
    "\"\"\"\n",
    "\n",
    "new_input = fr.replace_file(input_string, insert_start, insert_end, 'astrid_dep.xml', insert=True)\n",
    "print(len(new_input))\n",
    "with open('input_astrid.xml', 'w') as f:\n",
    "    f.write(new_input)"
   ]
  },
  {
   "cell_type": "code",
   "execution_count": 15,
   "metadata": {},
   "outputs": [
    {
     "name": "stdout",
     "output_type": "stream",
     "text": [
      "rm: cannot remove 'full_output.sqlite': No such file or directory\n",
      "              :                                                               \n",
      "          .CL:CC CC             _Q     _Q  _Q_Q    _Q    _Q              _Q   \n",
      "        CC;CCCCCCCC:C;         /_\\)   /_\\)/_/\\\\)  /_\\)  /_\\)            /_\\)  \n",
      "        CCCCCCCCCCCCCl       __O|/O___O|/O_OO|/O__O|/O__O|/O____________O|/O__\n",
      "     CCCCCCf     iCCCLCC     /////////////////////////////////////////////////\n",
      "     iCCCt  ;;;;;.  CCCC                                                      \n",
      "    CCCC  ;;;;;;;;;. CClL.                          c                         \n",
      "   CCCC ,;;       ;;: CCCC  ;                   : CCCCi                       \n",
      "    CCC ;;         ;;  CC   ;;:                CCC`   `C;                     \n",
      "  lCCC ;;              CCCC  ;;;:             :CC .;;. C;   ;    :   ;  :;;   \n",
      "  CCCC ;.              CCCC    ;;;,           CC ;    ; Ci  ;    :   ;  :  ;  \n",
      "   iCC :;               CC       ;;;,        ;C ;       CC  ;    :   ; .      \n",
      "  CCCi ;;               CCC        ;;;.      .C ;       tf  ;    :   ;  ;.    \n",
      "  CCC  ;;               CCC          ;;;;;;; fC :       lC  ;    :   ;    ;:  \n",
      "   iCf ;;               CC         :;;:      tC ;       CC  ;    :   ;     ;  \n",
      "  fCCC :;              LCCf      ;;;:         LC :.  ,: C   ;    ;   ; ;   ;  \n",
      "  CCCC  ;;             CCCC    ;;;:           CCi `;;` CC.  ;;;; :;.;.  ; ,;  \n",
      "    CCl ;;             CC    ;;;;              CCC    CCL                     \n",
      "   tCCC  ;;        ;; CCCL  ;;;                  tCCCCC.                      \n",
      "    CCCC  ;;     :;; CCCCf  ;                     ,L                          \n",
      "     lCCC   ;;;;;;  CCCL                                                      \n",
      "     CCCCCC  :;;  fCCCCC                                                      \n",
      "      . CCCC     CCCC .                                                       \n",
      "       .CCCCCCCCCCCCCi                                                        \n",
      "          iCCCCCLCf                                                           \n",
      "           .  C. ,                                                            \n",
      "              :                                                               \n",
      "Experimental Warning: MatlBuyPolicy is experimental and its API may be subject to change\n",
      "Experimental Warning: MatlSellPolicy is experimental and its API may be subject to change\n",
      "Experimental Warning: The Storage Facility is experimental.\n",
      "Experimental Warning: MatlSellPolicy is experimental and its API may be subject to change\n",
      "Experimental Warning: the Mixer archetype is experimental\n",
      "Experimental Warning: MatlSellPolicy is experimental and its API may be subject to change\n",
      "Experimental Warning: the Mixer archetype is experimental\n",
      "Experimental Warning: MatlSellPolicy is experimental and its API may be subject to change\n",
      "Experimental Warning: the Mixer archetype is experimental\n",
      "Experimental Warning: MatlSellPolicy is experimental and its API may be subject to change\n",
      "Experimental Warning: the Mixer archetype is experimental\n",
      "Experimental Warning: MatlBuyPolicy is experimental and its API may be subject to change\n",
      "Experimental Warning: MatlSellPolicy is experimental and its API may be subject to change\n",
      "Experimental Warning: The Storage Facility is experimental.\n",
      "Experimental Warning: MatlBuyPolicy is experimental and its API may be subject to change\n",
      "Experimental Warning: MatlSellPolicy is experimental and its API may be subject to change\n",
      "Experimental Warning: The Storage Facility is experimental.\n",
      "Experimental Warning: MatlBuyPolicy is experimental and its API may be subject to change\n",
      "Experimental Warning: MatlSellPolicy is experimental and its API may be subject to change\n",
      "Experimental Warning: The Storage Facility is experimental.\n",
      "Experimental Warning: MatlBuyPolicy is experimental and its API may be subject to change\n",
      "Experimental Warning: MatlSellPolicy is experimental and its API may be subject to change\n",
      "Experimental Warning: The Storage Facility is experimental.\n",
      "Experimental Warning: MatlBuyPolicy is experimental and its API may be subject to change\n",
      "Experimental Warning: MatlSellPolicy is experimental and its API may be subject to change\n",
      "Experimental Warning: The Storage Facility is experimental.\n",
      "Experimental Warning: MatlBuyPolicy is experimental and its API may be subject to change\n",
      "Experimental Warning: MatlSellPolicy is experimental and its API may be subject to change\n",
      "Experimental Warning: The Storage Facility is experimental.\n",
      "Experimental Warning: MatlSellPolicy is experimental and its API may be subject to change\n",
      "Experimental Warning: the Mixer archetype is experimental\n",
      "Experimental Warning: MatlSellPolicy is experimental and its API may be subject to change\n",
      "Experimental Warning: the Mixer archetype is experimental\n",
      "Experimental Warning: MatlSellPolicy is experimental and its API may be subject to change\n",
      "Experimental Warning: the Mixer archetype is experimental\n",
      "Experimental Warning: MatlBuyPolicy is experimental and its API may be subject to change\n",
      "Experimental Warning: MatlSellPolicy is experimental and its API may be subject to change\n",
      "Experimental Warning: The Storage Facility is experimental.\n",
      "Experimental Warning: MatlBuyPolicy is experimental and its API may be subject to change\n",
      "Experimental Warning: MatlSellPolicy is experimental and its API may be subject to change\n",
      "Experimental Warning: The Storage Facility is experimental.\n",
      "Experimental Warning: MatlSellPolicy is experimental and its API may be subject to change\n",
      "Further Experimental Warnings will be suppressed.\n",
      "\n",
      "Status: Cyclus run successful!\n",
      "Output location: full_output.sqlite\n",
      "Simulation ID: 7df25817-0e62-4564-a555-17f9a0e7d613\n"
     ]
    }
   ],
   "source": [
    "# run the new input with astrid reactors\n",
    "! rm full_output.sqlite\n",
    "! cyclus input_astrid.xml -o full_output.sqlite"
   ]
  },
  {
   "cell_type": "code",
   "execution_count": 3,
   "metadata": {},
   "outputs": [],
   "source": [
    "# get sqlite cursor and simulation time data\n",
    "cur = an.cursor('full_output.sqlite')\n",
    "init_year, init_month, duration, timestep = an.simulation_timesteps(cur)"
   ]
  },
  {
   "cell_type": "code",
   "execution_count": 4,
   "metadata": {},
   "outputs": [
    {
     "name": "stdout",
     "output_type": "stream",
     "text": [
      "french_facilities has no values\n",
      "Sink_Source_Inst has no values\n"
     ]
    }
   ],
   "source": [
    "# get number of reactors and capacity timeseries without astrids\n",
    "power_cap = an.power_capacity(cur)\n",
    "power_cap.pop('France_astrid', None)\n",
    "an.stacked_bar_chart(power_cap, timestep, 'Years',\n",
    "                    'Net Capacity [MWe]', 'Net Capacity vs Time',\n",
    "                    'no_astrid', init_year, colormap=cm.tab20c)"
   ]
  },
  {
   "cell_type": "code",
   "execution_count": 5,
   "metadata": {},
   "outputs": [
    {
     "name": "stdout",
     "output_type": "stream",
     "text": [
      "french_facilities has no values\n",
      "Sink_Source_Inst has no values\n"
     ]
    }
   ],
   "source": [
    "# get number of reactors and capacity timeseries with astrids\n",
    "power_cap = an.power_capacity(cur)\n",
    "dictionary = {'lwr': power_cap['France_government'],\n",
    "              'astrid': power_cap['France_astrid']}\n",
    "power_cap['France_government'] += power_cap['France_astrid']\n",
    "power_cap.pop('France_astrid', None)\n",
    "an.stacked_bar_chart(power_cap, timestep, 'Years',\n",
    "                    'Net Capacity [MWe]', 'Net Capacity vs Time',\n",
    "                    'full_power', init_year, colormap=cm.tab20c)"
   ]
  },
  {
   "cell_type": "code",
   "execution_count": 6,
   "metadata": {},
   "outputs": [],
   "source": [
    "an.stacked_bar_chart(dictionary, timestep,\n",
    "                  'Years', 'Net_Capacity [GWe]',\n",
    "                  'Net Capacity vs Time',\n",
    "                  'france_power_plot', init_year)"
   ]
  },
  {
   "cell_type": "code",
   "execution_count": 7,
   "metadata": {},
   "outputs": [
    {
     "name": "stdout",
     "output_type": "stream",
     "text": [
      "Average number of ASTRIDS to deploy per year\n",
      "1.7833333333333334\n"
     ]
    },
    {
     "data": {
      "image/png": "[encoded data removed]",
      "text/plain": [
       "<Figure size 432x288 with 1 Axes>"
      ]
     },
     "metadata": {
      "needs_background": "light"
     },
     "output_type": "display_data"
    }
   ],
   "source": [
    "# astrid deployment\n",
    "entry = cur.execute('SELECT entertime FROM agententry WHERE prototype == \"astrid\"').fetchall()\n",
    "num_dict = {}\n",
    "cum_dict = {}\n",
    "num_dict['num dep'] = []\n",
    "for t in timestep:\n",
    "    astrid_num = 0\n",
    "    for agent in entry:\n",
    "        if agent['entertime'] == t:\n",
    "            astrid_num += 1\n",
    "    num_dict['num dep'].append(astrid_num)\n",
    "dep = an.deployments(cur)\n",
    "cum_dict['cumulative'] = dep['France_astrid']\n",
    "plt.plot(cum_dict['cumulative'])\n",
    "\n",
    "print('Average number of ASTRIDS to deploy per year')\n",
    "print(sum(num_dict['num dep']) / (2160-2040) )\n",
    "an.double_axis_bar_line_plot(num_dict, cum_dict, timestep,\n",
    "                             'Years', 'Number of SFRs Deployed', ' Number of SFRs Operational',\n",
    "                             'Build number and cumulative ASTRID Number vs Time', 'sfr_deploy',\n",
    "                             init_year)"
   ]
  },
  {
   "cell_type": "code",
   "execution_count": 8,
   "metadata": {},
   "outputs": [
    {
     "name": "stdout",
     "output_type": "stream",
     "text": [
      "0.01188489984729947\n"
     ]
    }
   ],
   "source": [
    "# Pu Composition in Spent Fuels:\n",
    "pu_frac_spent_uox = cur.execute('SELECT sum(massfrac) FROM recipes LEFT OUTER JOIN compositions ON '\n",
    "                'compositions.qualid = recipes.qualid '\n",
    "                'WHERE recipe = \"uox_used_fuel_recipe\" '\n",
    "                'and (nucid > 940000000 and nucid < 950000000)').fetchone()\n",
    "pu_frac_spent_astrid = cur.execute('SELECT sum(massfrac) FROM recipes LEFT OUTER JOIN compositions ON '\n",
    "                'compositions.qualid = recipes.qualid '\n",
    "                'WHERE recipe = \"sfr_spent_mox_recipe\" '\n",
    "                'and (nucid > 940000000 and nucid < 950000000)').fetchone()\n",
    "print(pu_frac_spent_uox[0])"
   ]
  },
  {
   "cell_type": "code",
   "execution_count": 9,
   "metadata": {},
   "outputs": [
    {
     "name": "stdout",
     "output_type": "stream",
     "text": [
      "french_facilities\n",
      "\n",
      "\n",
      "french_facilities has none\n",
      "\n",
      "France_government\n",
      "\n",
      "\n",
      "France_government has none\n",
      "\n",
      "France_astrid\n",
      "\n",
      "\n",
      "France_astrid has none\n",
      "\n",
      "Slovakia_government\n",
      "2744.684\n",
      "Lithuania_government\n",
      "1051.668\n",
      "Spain_government\n",
      "9725.296\n",
      "Czech Republic_government\n",
      "4143.786\n",
      "Belgium_government\n",
      "4799.406\n",
      "Italy_government\n",
      "577.792\n",
      "Netherlands_government\n",
      "539.214\n",
      "Slovenia_government\n",
      "765.336\n",
      "Germany_government\n",
      "18096.49\n",
      "Sweden_government\n",
      "16014.024\n",
      "United Kingdom_government\n",
      "13157.684\n",
      "Bulgaria_government\n",
      "2965.008\n",
      "Finland_government\n",
      "5604.65\n",
      "Hungary_government\n",
      "3118.878\n",
      "Romania_government\n",
      "\n",
      "\n",
      "Romania_government has none\n",
      "\n",
      "Poland_government\n",
      "1807.638\n",
      "Sink_Source_Inst\n",
      "\n",
      "\n",
      "Sink_Source_Inst has none\n",
      "\n",
      "Used UOX available for reprocessing Except France\n",
      "85111.554\n"
     ]
    }
   ],
   "source": [
    "# LWR UNF per EU nation\n",
    "\n",
    "inst_output_dict = an.commodity_per_institution(cur, 'uox_waste', 960)\n",
    "total = 0\n",
    "for key in inst_output_dict:\n",
    "    try:\n",
    "        print(key)\n",
    "        print(inst_output_dict[key]/1000)\n",
    "        total += inst_output_dict[key]/1000\n",
    "    except:\n",
    "        print('\\n')\n",
    "        print(key + ' has none\\n')\n",
    "\n",
    "print('Used UOX available for reprocessing Except France')\n",
    "print(total)\n"
   ]
  },
  {
   "cell_type": "code",
   "execution_count": 10,
   "metadata": {},
   "outputs": [
    {
     "name": "stdout",
     "output_type": "stream",
     "text": [
      "French UNF UOX total in 2050: 64094.214000\n",
      "French UNF reprocesed up until 2050: 51456.140000\n",
      "French UNF UOX unused in 2050: 12638.074000\n",
      "Total UOX UNF available for Rerprocessing in 2050:97749.628000\n"
     ]
    }
   ],
   "source": [
    "# French UOX UNF total, in sink, and reprocessed\n",
    "agent_ids = an.agent_ids(cur, 'Reactor')\n",
    "french = an.facility_commodity_flux(cur, agent_ids, ['french_uox_waste'], True, True)\n",
    "print('French UNF UOX total in 2050: %f' %french['french_uox_waste'][960])\n",
    "\n",
    "agent_ids = an.prototype_id(cur, 'LA_HAGUE')\n",
    "french_rep = an.facility_commodity_flux(cur, agent_ids, ['cooled_french_uox_waste'], False, True)\n",
    "print('French UNF reprocesed up until 2050: %f' %french_rep['cooled_french_uox_waste'][960])\n",
    "\n",
    "unused = french['french_uox_waste'][960] - french_rep['cooled_french_uox_waste'][960]\n",
    "print('French UNF UOX unused in 2050: %f' %unused)\n",
    "\n",
    "#french['in_sink'] = [x - y for x, y in zip(french['french_uox_waste'], french_rep['cooled_french_uox_waste'])] \n",
    "#print('French SNF in Sink')\n",
    "#print(sum(french['in_sink']))\n",
    "\n",
    "total_uox_unf = total + unused\n",
    "\n",
    "print('Total UOX UNF available for Rerprocessing in 2050:%f' %total_uox_unf)"
   ]
  },
  {
   "cell_type": "code",
   "execution_count": 11,
   "metadata": {},
   "outputs": [
    {
     "name": "stdout",
     "output_type": "stream",
     "text": [
      "Pu-238 has mass fraction of 0.000100 - 9.774963 tonnes available from 2050 UNF\n",
      "Pu-239 has mass fraction of 0.005180 - 506.343073 tonnes available from 2050 UNF\n",
      "Pu-240 has mass fraction of 0.002320 - 226.779137 tonnes available from 2050 UNF\n",
      "Pu-241 has mass fraction of 0.001260 - 123.164531 tonnes available from 2050 UNF\n",
      "Pu-242 has mass fraction of 0.000487 - 47.604069 tonnes available from 2050 UNF\n",
      "Total: 0.009347 - 913.665773 tonnes available \n"
     ]
    }
   ],
   "source": [
    "# plutonium from UNF inventory\n",
    "pu_iso_list = [238, 239, 240, 241, 242]\n",
    "mass_frac_list = [0.0001, 0.00518, 0.00232, 0.00126, 0.000487]\n",
    "for i in range(5):\n",
    "    print('Pu-%i has mass fraction of %f - %f tonnes available from 2050 UNF' %(pu_iso_list[i], mass_frac_list[i], mass_frac_list[i] * total_uox_unf))\n",
    "print('Total: %f - %f tonnes available ' %(sum(mass_frac_list), sum(mass_frac_list) * total_uox_unf))\n"
   ]
  },
  {
   "cell_type": "code",
   "execution_count": 12,
   "metadata": {},
   "outputs": [
    {
     "name": "stdout",
     "output_type": "stream",
     "text": [
      "Total UOX Loaded up until 2050: 152273.508000 MTHM\n"
     ]
    }
   ],
   "source": [
    "# UOX loaded up until 2050\n",
    "agent_ids = an.agent_ids(cur, 'Reactor')\n",
    "uox_loaded = an.facility_commodity_flux(cur, agent_ids, ['uox'], False, True)\n",
    "tot_uox_loaded_2050 = uox_loaded['uox'][960]\n",
    "print('Total UOX Loaded up until 2050: %f MTHM' %tot_uox_loaded_2050)"
   ]
  },
  {
   "cell_type": "code",
   "execution_count": 13,
   "metadata": {},
   "outputs": [
    {
     "name": "stdout",
     "output_type": "stream",
     "text": [
      "Total MOX Loaded up until 2050: 6461.648000 MTHM\n"
     ]
    }
   ],
   "source": [
    "# LWR MOX loaded up until 2050\n",
    "mox_loaded = an.facility_commodity_flux(cur, agent_ids, ['mox'], False, True)\n",
    "tot_mox_loaded_2050 = mox_loaded['mox'][960]\n",
    "print('Total MOX Loaded up until 2050: %f MTHM' %tot_mox_loaded_2050)"
   ]
  },
  {
   "cell_type": "code",
   "execution_count": 14,
   "metadata": {},
   "outputs": [
    {
     "name": "stdout",
     "output_type": "stream",
     "text": [
      "Total tails at 2050: 1330185.187829\n"
     ]
    }
   ],
   "source": [
    "# Tails up until 2050\n",
    "agent_ids = an.agent_ids(cur, 'Enrichment')\n",
    "tails = an.facility_commodity_flux(cur, agent_ids, ['tails'], True, True)\n",
    "tails_2050 = tails['tails'][960]\n",
    "print('Total tails at 2050: %f' %tails_2050)\n"
   ]
  },
  {
   "cell_type": "code",
   "execution_count": 15,
   "metadata": {},
   "outputs": [
    {
     "name": "stdout",
     "output_type": "stream",
     "text": [
      "Total natural U at 2050: 1482458.695829\n"
     ]
    }
   ],
   "source": [
    "# Natural U used until 2050\n",
    "source = an.nat_u_timeseries(cur)\n",
    "source_2050 = source[960]\n",
    "print('Total natural U at 2050: %f' %source_2050)"
   ]
  },
  {
   "cell_type": "code",
   "execution_count": 16,
   "metadata": {
    "scrolled": false
   },
   "outputs": [
    {
     "name": "stdout",
     "output_type": "stream",
     "text": [
      "Total Tails in MTHM:\n",
      "1329405.9812531888\n"
     ]
    }
   ],
   "source": [
    "# get tailings timeseries both cumulative and non-cumulative up till 2050\n",
    "\n",
    "agent_ids = an.agent_ids(cur, 'Storage')\n",
    "tails_dict = an.facility_commodity_flux(cur, agent_ids, ['tails'], False)\n",
    "tails_dict['tails'] = tails_dict['tails'][:960]\n",
    "tails_no_cum = an.facility_commodity_flux(cur, agent_ids, ['tails'], False, False)\n",
    "tails_no_cum['tails'] = tails_no_cum['tails'][:960]\n",
    "an.double_axis_bar_line_plot(tails_no_cum, tails_dict, timestep[:960], 'Years', 'Monthly Discharge Mass [MTHM]', 'Cumulative Mass [MTHM]',\n",
    "                    'Tails Mass vs Time', 'tailings', init_year)\n",
    "\n",
    "print('Total Tails in MTHM:')\n",
    "print(max(tails_dict['tails']))"
   ]
  },
  {
   "cell_type": "code",
   "execution_count": 17,
   "metadata": {},
   "outputs": [],
   "source": [
    "# get total fuel mass vs time plot up until 2050\n",
    "fuel_dict = an.fuel_usage_timeseries(cur, ['uox', 'mox'], True)\n",
    "fuel_dict['uox'] = fuel_dict['uox'][:960]\n",
    "fuel_dict['mox'] = fuel_dict['mox'][:960]\n",
    "an.stacked_bar_chart(fuel_dict, timestep[:960],\n",
    "                  'Years', 'Mass[MTHM]',\n",
    "                  'Total LWR Fuel Mass vs Time',\n",
    "                  'total_fuel',\n",
    "                  init_year)"
   ]
  },
  {
   "cell_type": "code",
   "execution_count": 18,
   "metadata": {
    "scrolled": true
   },
   "outputs": [
    {
     "name": "stdout",
     "output_type": "stream",
     "text": [
      "Total ASTRID fuel from spent UOX:\n",
      "3001.1520000000014\n",
      "Total ASTRID fuel from spent ASTRID fuel:\n",
      "59143.29599999978\n",
      "Total ASTRID Fuel loaded\n",
      "62144.44799999978\n",
      "Total depu used\n",
      "48472.66943999983\n"
     ]
    }
   ],
   "source": [
    "# where does the astrid fuel come from?\n",
    "init_year, init_month, duration, timestep = an.simulation_timesteps(cur)\n",
    "\n",
    "agent_ids = an.agent_ids(cur, 'Reactor')\n",
    "astrid_loading = an.facility_commodity_flux(cur, agent_ids, ['astrid_fuel_legacy', 'astrid_fuel_new'], False, False)\n",
    "\n",
    "print('Total ASTRID fuel from spent UOX:')\n",
    "print(sum(astrid_loading['astrid_fuel_legacy']))\n",
    "print('Total ASTRID fuel from spent ASTRID fuel:')\n",
    "print(sum(astrid_loading['astrid_fuel_new']))\n",
    "print('Total ASTRID Fuel loaded')\n",
    "print(sum(astrid_loading['astrid_fuel_new']) + sum(astrid_loading['astrid_fuel_legacy']))\n",
    "print('Total depu used')\n",
    "print((sum(astrid_loading['astrid_fuel_new']) + sum(astrid_loading['astrid_fuel_legacy'])) * 0.78)"
   ]
  },
  {
   "cell_type": "code",
   "execution_count": 19,
   "metadata": {},
   "outputs": [
    {
     "name": "stdout",
     "output_type": "stream",
     "text": [
      "Total Pu from Spent UOX:\n",
      "660.2534400000003\n",
      "Total uox reprocessed 55553.97592601721\n",
      "Total Pu from Spent ASTRID Fuel:\n",
      "13011.525119999951\n",
      "Total astrid fuel reprocessed 47432.95155047384\n",
      "Total Pu Reprocessed: 13671.778559999952\n",
      "average uox reprocessing 144.29604136627847\n",
      "average astrid fuel reprocessing 34.85154412231729\n",
      "average total reprocessing 61.30174254553039\n",
      "Average fuel fab: 36.99074285714273\n"
     ]
    }
   ],
   "source": [
    "import collections\n",
    "new_dict = collections.OrderedDict()\n",
    "new_dict = {'fuel from used uox': astrid_loading['astrid_fuel_legacy'],\n",
    "            'fuel from used mox': astrid_loading['astrid_fuel_new']}\n",
    "an.stacked_bar_chart(new_dict, timestep,\n",
    "                  'Years', 'Mass[MTHM]',\n",
    "                  'ASTRID Fuel Loading vs Time',\n",
    "                  'where_fuel',\n",
    "                  init_year)\n",
    "\n",
    "print('Total Pu from Spent UOX:')\n",
    "pu_from_spent_uox = sum(new_dict['fuel from used uox']) * 0.22\n",
    "uox_rep = pu_from_spent_uox / pu_frac_spent_uox[0]\n",
    "print(pu_from_spent_uox)\n",
    "print('Total uox reprocessed', uox_rep)\n",
    "print('Total Pu from Spent ASTRID Fuel:')\n",
    "pu_from_spent_astrid = sum(new_dict['fuel from used mox']) * 0.22\n",
    "astrid_rep = pu_from_spent_astrid / pu_frac_spent_astrid[0]\n",
    "print(pu_from_spent_astrid)\n",
    "print('Total astrid fuel reprocessed', astrid_rep)\n",
    "print('Total Pu Reprocessed:', pu_from_spent_astrid + pu_from_spent_uox)\n",
    "\n",
    "nonzero = [i for i, e in enumerate(new_dict['fuel from used uox']) if e != 0][-1] - 600\n",
    "print('average uox reprocessing', uox_rep / nonzero)\n",
    "\n",
    "nonzero = len([i for i, e in enumerate(new_dict['fuel from used mox']) if e != 0])\n",
    "print('average astrid fuel reprocessing', astrid_rep / nonzero)\n",
    "\n",
    "tot = np.array(new_dict['fuel from used uox']) + np.array(new_dict['fuel from used mox'])\n",
    "nonzero = len(timestep) - 600\n",
    "print('average total reprocessing', (astrid_rep + uox_rep) / nonzero)\n",
    "\n",
    "print('Average fuel fab:', sum(tot) / nonzero)\n"
   ]
  },
  {
   "cell_type": "code",
   "execution_count": 20,
   "metadata": {
    "scrolled": true
   },
   "outputs": [],
   "source": [
    "# cum plutonium flux\n",
    "agent_ids = an.agent_ids(cur, 'separations')\n",
    "pu = an.facility_commodity_flux(cur, agent_ids, ['uox_Pu', 'astrid_Pu'], True, False)\n",
    "pu['pu from legacy'] = pu.pop('uox_Pu')\n",
    "pu['pu from spent sfr fuel'] = pu.pop('astrid_Pu')\n",
    "\n",
    "an.stacked_bar_chart(pu, timestep, 'Years', 'Mass [MTHM]', 'Total Pu Mass vs Time', 'pu', init_year)\n"
   ]
  },
  {
   "cell_type": "code",
   "execution_count": 21,
   "metadata": {},
   "outputs": [
    {
     "name": "stdout",
     "output_type": "stream",
     "text": [
      "Total Reprocessed U Inventory:\n",
      "194186.26644263283\n"
     ]
    }
   ],
   "source": [
    "# Total Reprocessed Uranium Stockpile\n",
    "agent_ids = an.agent_ids(cur, 'sink')\n",
    "repu_inv = an.facility_commodity_flux(cur, agent_ids, ['uox_U', 'astrid_U'], False, True)\n",
    "an.stacked_bar_chart(repu_inv, timestep, 'Years', 'Mass[MTHM]', 'Total Rep U Mass vs Time', 'repu', init_year)\n",
    "\n",
    "print('Total Reprocessed U Inventory:')\n",
    "print(max([x+y for x, y in zip(repu_inv['uox_U'], repu_inv['astrid_U'])]))"
   ]
  },
  {
   "cell_type": "code",
   "execution_count": 22,
   "metadata": {},
   "outputs": [
    {
     "name": "stdout",
     "output_type": "stream",
     "text": [
      "Total Raffinate:\n",
      "12123.669541035926\n"
     ]
    }
   ],
   "source": [
    "# Raffinate\n",
    "agent_ids = an.agent_ids(cur, 'separations')\n",
    "reprocess_waste = an.facility_commodity_flux(cur, agent_ids, ['lahague_raffinate', 'uox_raffinate', 'astrid_raffinate'], True, False)\n",
    "an.stacked_bar_chart(reprocess_waste, timestep, 'Years', 'Mass [MTHM]',\n",
    "                     'Raffinate Inventory vs Time', 'raffinate', init_year)\n",
    "print('Total Raffinate:')\n",
    "print(sum([x+y+z for x, y, z in zip(reprocess_waste['lahague_raffinate'], reprocess_waste['uox_raffinate'], reprocess_waste['astrid_raffinate']\n",
    ")]))"
   ]
  },
  {
   "cell_type": "code",
   "execution_count": 23,
   "metadata": {
    "scrolled": true
   },
   "outputs": [
    {
     "name": "stdout",
     "output_type": "stream",
     "text": [
      "Total UOX Waste in MTHM:\n",
      "165638.146\n",
      "Total UOX Waste Stored:\n",
      "98559.746\n",
      "Total MOX Waste in MTHM:\n",
      "6461.648\n"
     ]
    }
   ],
   "source": [
    "# get spent fuel no_cum and cumulative plot\n",
    "agent_ids = an.agent_ids(cur, 'Storage')\n",
    "snf_dict_no_cum = an.facility_commodity_flux(cur, agent_ids, ['uox_waste'],\n",
    "                                        False, False)\n",
    "snf_dict = an.facility_commodity_flux(cur, agent_ids, ['uox_waste'],\n",
    "                                        False, True) \n",
    "dictionary = {}\n",
    "dictionary['monthly_discharge'] = snf_dict_no_cum['uox_waste'][:960]\n",
    "dict2 = {}\n",
    "dict2['cum_mass'] = snf_dict['uox_waste'][:960]\n",
    "\n",
    "an.double_axis_bar_line_plot(dictionary,dict2, timestep[:960], 'Years',  'Monthly Discharge Mass [MTHM]','Cumulative Mass [MTHM]',\n",
    "                    'Spent Fuel Discharge vs Time', 'snf_discharge', init_year)\n",
    "\n",
    "agent_ids = an.agent_ids(cur, 'Storage')\n",
    "snf_dict = an.facility_commodity_flux(cur, agent_ids, ['uox_waste', 'french_uox_waste'],\n",
    "                                        False)\n",
    "print('Total UOX Waste in MTHM:')\n",
    "print(max([x + y for x, y in zip(snf_dict['uox_waste'], snf_dict['french_uox_waste'])]))\n",
    "print('Total UOX Waste Stored:')\n",
    "print(max(snf_dict['uox_waste']))\n",
    "agent_ids = an.agent_ids(cur, 'Sink')\n",
    "snf_dict = an.facility_commodity_flux(cur, agent_ids, ['mox_waste'],\n",
    "                                        False)\n",
    "print('Total MOX Waste in MTHM:')\n",
    "print(max(snf_dict['mox_waste']))"
   ]
  },
  {
   "cell_type": "code",
   "execution_count": 24,
   "metadata": {},
   "outputs": [
    {
     "name": "stdout",
     "output_type": "stream",
     "text": [
      "Total Natural U in MTHM:\n",
      "1612570.12545276\n",
      "Total UOX usage in MTHM:\n",
      "165638.146\n",
      "Total MOX usage in MTHM:\n",
      "6461.648\n",
      "Total Tailings in MTHM:\n",
      "1446931.9794527595\n",
      "Finished!\n"
     ]
    }
   ],
   "source": [
    "# Display important simulation results\n",
    "\n",
    "# natural uranium demand\n",
    "dictionary = collections.OrderedDict()\n",
    "dictionary['natural_uranium'] = an.nat_u_timeseries(cur)\n",
    "print('Total Natural U in MTHM:')\n",
    "print(max(dictionary['natural_uranium']))\n",
    "\n",
    "# get spent fuel timeseries separated by region\n",
    "\n",
    "agent_ids = an.agent_ids(cur, 'Storage')\n",
    "comm_dict = an.commodity_flux_region(cur, agent_ids, ['uox_waste', 'french_uox_waste'], False)\n",
    "\n",
    "# get fuel usage timeseries in stacked bar chart\n",
    "fuel_dict = an.fuel_usage_timeseries(cur, ['uox', 'mox'])\n",
    "\n",
    "print('Total UOX usage in MTHM:')\n",
    "print(max(fuel_dict['uox']))\n",
    "print('Total MOX usage in MTHM:')\n",
    "print(max(fuel_dict['mox']))\n",
    "\n",
    "# get tailings timeseries\n",
    "agent_ids = an.agent_ids(cur, 'Storage')\n",
    "tails_dict = an.facility_commodity_flux(cur, agent_ids, ['tails'], False)\n",
    "print('Total Tailings in MTHM:')\n",
    "print(max(tails_dict['tails']))\n",
    "\n",
    "print('Finished!')"
   ]
  }
 ],
 "metadata": {
  "kernelspec": {
   "display_name": "Python 3",
   "language": "python",
   "name": "python3"
  },
  "language_info": {
   "codemirror_mode": {
    "name": "ipython",
    "version": 3
   },
   "file_extension": ".py",
   "mimetype": "text/x-python",
   "name": "python",
   "nbconvert_exporter": "python",
   "pygments_lexer": "ipython3",
   "version": "3.6.6"
  }
 },
 "nbformat": 4,
 "nbformat_minor": 2
}
