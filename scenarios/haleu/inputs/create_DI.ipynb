{
 "cells": [
  {
   "cell_type": "markdown",
   "metadata": {},
   "source": [
    "## Create the DeployInst for advanced reactors"
   ]
  },
  {
   "cell_type": "code",
   "execution_count": 7,
   "metadata": {},
   "outputs": [],
   "source": [
    "import numpy as np\n",
    "import xmltodict\n",
    "import sys\n",
    "import matplotlib.pyplot as plt\n",
    "import math\n",
    "\n",
    "sys.path.insert(0, \"../../../scripts\")\n",
    "import create_AR_DeployInst as cdi"
   ]
  },
  {
   "cell_type": "code",
   "execution_count": 27,
   "metadata": {
    "scrolled": true
   },
   "outputs": [],
   "source": [
    "duration = 1500\n",
    "reactor_prototypes = {'Xe-100':(76, 720), 'MMR':(5,240), 'VOYGR':(73, 720)}\n",
    "scenarios = [['Xe-100'], ['MMR'], ['Xe-100','MMR'], ['MMR','VOYGR'], ['Xe-100','VOYGR'], ['Xe-100','MMR','VOYGR']]\n",
    "for growth in ['nogrowth', '1percent']:\n",
    "    for index, reactors in enumerate(scenarios):\n",
    "        demand_equation = np.zeros(duration)\n",
    "        if growth == 'nogrowth':\n",
    "            demand_equation[721:] = 87198.156\n",
    "        else:\n",
    "            for ii in np.linspace(721, 1499, 779):\n",
    "                demand_equation[int(ii)] = 87198.156*np.exp(0.00083*(int(ii)-721))\n",
    "        scenario = '_'.join(scenarios[index]).replace('-','')\n",
    "        scenario = scenario.lower() + \"_\" + growth \n",
    "        reactor_dict = {k: reactor_prototypes[k] for k in (reactors)}\n",
    "        \n",
    "        deployinst = cdi.convert_xml_to_dict(\"united_states/buildtimes/UNITED_STATES_OF_AMERICA/deployinst.xml\")\n",
    "        lwr_powers = cdi.get_pris_powers('UNITED STATES OF AMERICA',\"../../../database/\", 2020)\n",
    "        deployed_lwr_dict = cdi.get_deployinst_dict(deployinst, lwr_powers, \"united_states/reactors/\")\n",
    "        time, deployed_power = cdi.get_deployed_power(lwr_powers, deployed_lwr_dict, duration)\n",
    "        power_gap = cdi.determine_power_gap(deployed_power*0.9266, demand_equation)\n",
    "        \n",
    "        deploy_schedule = cdi.determine_deployment_schedule(power_gap, reactor_dict)\n",
    "        cdi.write_deployinst(deploy_schedule, \"./united_states/buildtimes/\" + scenario + \"_deployinst.xml\")"
   ]
  },
  {
   "cell_type": "code",
   "execution_count": null,
   "metadata": {},
   "outputs": [],
   "source": []
  }
 ],
 "metadata": {
  "kernelspec": {
   "display_name": "Python 3",
   "language": "python",
   "name": "python3"
  },
  "language_info": {
   "codemirror_mode": {
    "name": "ipython",
    "version": 3
   },
   "file_extension": ".py",
   "mimetype": "text/x-python",
   "name": "python",
   "nbconvert_exporter": "python",
   "pygments_lexer": "ipython3",
   "version": "3.8.5"
  }
 },
 "nbformat": 4,
 "nbformat_minor": 4
}
